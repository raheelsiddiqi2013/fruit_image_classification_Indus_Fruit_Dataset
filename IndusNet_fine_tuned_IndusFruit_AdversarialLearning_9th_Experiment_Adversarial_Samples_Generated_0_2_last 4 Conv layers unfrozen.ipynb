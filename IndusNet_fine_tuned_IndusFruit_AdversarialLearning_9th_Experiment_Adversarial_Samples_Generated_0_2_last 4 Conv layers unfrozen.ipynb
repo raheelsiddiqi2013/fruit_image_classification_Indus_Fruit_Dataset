{
 "cells": [
  {
   "cell_type": "markdown",
   "metadata": {
    "colab_type": "text",
    "id": "AK3AXtdQQ13p"
   },
   "source": [
    "# Robust Fruit Image Classification of Perturbed Images using IndusNet\n",
    "First we upload the IndusFruit dataset. The dataset contains 3,640 fruit images belonging to seven different fruit classes. The fruit classes included in the dataset are:\n",
    "\n",
    "1.   Apple\n",
    "2.   Banana\n",
    "3.   Grape\n",
    "4.   Mango\n",
    "5.   Orange\n",
    "6.   Strawberry\n",
    "7.   Watermelon\n",
    "\n",
    "The dataset is sub-divided into three subsets i.e. train (400 images per fruit class), validation (40 images per fruit class) and test (80 images per fruit class). "
   ]
  },
  {
   "cell_type": "markdown",
   "metadata": {
    "colab_type": "text",
    "id": "qTw4sX6PdFeZ"
   },
   "source": [
    "## Model Definition"
   ]
  },
  {
   "cell_type": "markdown",
   "metadata": {
    "colab_type": "text",
    "id": "gllxDFYuejQq"
   },
   "source": [
    "First we import the required packages:\n"
   ]
  },
  {
   "cell_type": "code",
   "execution_count": 1,
   "metadata": {
    "colab": {},
    "colab_type": "code",
    "id": "2OqvBy1gvbNn"
   },
   "outputs": [],
   "source": [
    "import os\n",
    "import shutil\n",
    "import glob\n",
    "import random\n",
    "import cv2\n",
    "from tensorflow.keras.applications.vgg16 import VGG16\n",
    "import numpy as np\n",
    "from tensorflow.keras import models\n",
    "from tensorflow.keras import layers\n",
    "from tensorflow.keras.preprocessing.image import ImageDataGenerator\n",
    "from tensorflow.keras import regularizers\n",
    "from tensorflow.keras import optimizers\n",
    "from tensorflow.keras.callbacks import ModelCheckpoint"
   ]
  },
  {
   "cell_type": "markdown",
   "metadata": {
    "colab_type": "text",
    "id": "0HZBk4mwfGVT"
   },
   "source": [
    "Now we define the IndusNet model:"
   ]
  },
  {
   "cell_type": "code",
   "execution_count": 2,
   "metadata": {
    "colab": {
     "base_uri": "https://localhost:8080/",
     "height": 833
    },
    "colab_type": "code",
    "id": "Z8K6x11J27dC",
    "outputId": "512ef1f8-669e-49b9-8811-3e7d728093e9"
   },
   "outputs": [
    {
     "name": "stdout",
     "output_type": "stream",
     "text": [
      "Model: \"sequential\"\n",
      "_________________________________________________________________\n",
      "Layer (type)                 Output Shape              Param #   \n",
      "=================================================================\n",
      "conv2d (Conv2D)              (None, 98, 98, 64)        1792      \n",
      "_________________________________________________________________\n",
      "conv2d_1 (Conv2D)            (None, 96, 96, 64)        36928     \n",
      "_________________________________________________________________\n",
      "conv2d_2 (Conv2D)            (None, 94, 94, 128)       73856     \n",
      "_________________________________________________________________\n",
      "conv2d_3 (Conv2D)            (None, 92, 92, 128)       147584    \n",
      "_________________________________________________________________\n",
      "max_pooling2d (MaxPooling2D) (None, 46, 46, 128)       0         \n",
      "_________________________________________________________________\n",
      "dropout (Dropout)            (None, 46, 46, 128)       0         \n",
      "_________________________________________________________________\n",
      "conv2d_4 (Conv2D)            (None, 44, 44, 128)       147584    \n",
      "_________________________________________________________________\n",
      "conv2d_5 (Conv2D)            (None, 42, 42, 128)       147584    \n",
      "_________________________________________________________________\n",
      "conv2d_6 (Conv2D)            (None, 40, 40, 256)       295168    \n",
      "_________________________________________________________________\n",
      "conv2d_7 (Conv2D)            (None, 38, 38, 256)       590080    \n",
      "_________________________________________________________________\n",
      "max_pooling2d_1 (MaxPooling2 (None, 19, 19, 256)       0         \n",
      "_________________________________________________________________\n",
      "dropout_1 (Dropout)          (None, 19, 19, 256)       0         \n",
      "_________________________________________________________________\n",
      "conv2d_8 (Conv2D)            (None, 17, 17, 256)       590080    \n",
      "_________________________________________________________________\n",
      "conv2d_9 (Conv2D)            (None, 15, 15, 512)       1180160   \n",
      "_________________________________________________________________\n",
      "max_pooling2d_2 (MaxPooling2 (None, 7, 7, 512)         0         \n",
      "_________________________________________________________________\n",
      "dropout_2 (Dropout)          (None, 7, 7, 512)         0         \n",
      "_________________________________________________________________\n",
      "flatten (Flatten)            (None, 25088)             0         \n",
      "_________________________________________________________________\n",
      "dense (Dense)                (None, 32)                802848    \n",
      "_________________________________________________________________\n",
      "dropout_3 (Dropout)          (None, 32)                0         \n",
      "_________________________________________________________________\n",
      "dense_1 (Dense)              (None, 7)                 231       \n",
      "=================================================================\n",
      "Total params: 4,013,895\n",
      "Trainable params: 4,013,895\n",
      "Non-trainable params: 0\n",
      "_________________________________________________________________\n"
     ]
    }
   ],
   "source": [
    "indusNetModel=models.Sequential()\n",
    "\n",
    "indusNetModel.add(layers.Conv2D(64, (3, 3), activation='relu', input_shape=(100, 100, 3)))\n",
    "indusNetModel.add(layers.Conv2D(64, (3, 3), activation='relu'))\n",
    "indusNetModel.add(layers.Conv2D(128, (3, 3), activation='relu'))\n",
    "indusNetModel.add(layers.Conv2D(128, (3, 3), activation='relu'))\n",
    "indusNetModel.add(layers.MaxPooling2D(pool_size=(2, 2)))\n",
    "indusNetModel.add(layers.Dropout(0.2))\n",
    "\n",
    "indusNetModel.add(layers.Conv2D(128, (3, 3), activation='relu'))\n",
    "indusNetModel.add(layers.Conv2D(128, (3, 3), activation='relu'))\n",
    "indusNetModel.add(layers.Conv2D(256, (3, 3), activation='relu'))\n",
    "indusNetModel.add(layers.Conv2D(256, (3, 3), activation='relu'))\n",
    "indusNetModel.add(layers.MaxPooling2D(pool_size=(2, 2)))\n",
    "indusNetModel.add(layers.Dropout(0.2))\n",
    "\n",
    "indusNetModel.add(layers.Conv2D(256, (3, 3), activation='relu'))\n",
    "indusNetModel.add(layers.Conv2D(512, (3, 3), activation='relu'))\n",
    "indusNetModel.add(layers.MaxPooling2D(pool_size=(2, 2)))\n",
    "indusNetModel.add(layers.Dropout(0.2))\n",
    "\n",
    "indusNetModel.add(layers.Flatten())\n",
    "indusNetModel.add(layers.Dense(32, kernel_regularizer=regularizers.l2(0.001), activation='relu'))\n",
    "indusNetModel.add(layers.Dropout(0.2))\n",
    "indusNetModel.add(layers.Dense(7, activation='softmax'))\n",
    "\n",
    "indusNetModel.compile(loss='categorical_crossentropy',optimizer=optimizers.Adam(lr=1e-4),metrics=['categorical_accuracy'])\n",
    "indusNetModel.summary()\n",
    "\n",
    "filepath=\"IndusNet_7_classes_100_100_2nd Experiment.h5\"\n",
    "checkpoint = ModelCheckpoint(filepath, save_best_only=True)\n",
    "callbacks_list = [checkpoint]"
   ]
  },
  {
   "cell_type": "code",
   "execution_count": 3,
   "metadata": {
    "colab": {},
    "colab_type": "code",
    "id": "HN7cy4CM4z6d"
   },
   "outputs": [],
   "source": [
    "resized_images_100_100_train_dir='D:\\\\TensorFlow Programs\\\\fruit_image_classification_Indus Fruit Dataset\\\\Indus Fruit Dataset_Resized Images_100_100\\\\Train'\n",
    "resized_images_100_100_test_dir='D:\\\\TensorFlow Programs\\\\fruit_image_classification_Indus Fruit Dataset\\\\Indus Fruit Dataset_Resized Images_100_100\\\\Test'\n",
    "resized_images_100_100_validation_dir='D:\\\\TensorFlow Programs\\\\fruit_image_classification_Indus Fruit Dataset\\\\Indus Fruit Dataset_Resized Images_100_100\\\\Validation'"
   ]
  },
  {
   "cell_type": "markdown",
   "metadata": {
    "colab_type": "text",
    "id": "KMbnbfXEko8x"
   },
   "source": [
    "Here we set data generators for model training, validation and testing:"
   ]
  },
  {
   "cell_type": "code",
   "execution_count": 4,
   "metadata": {
    "colab": {
     "base_uri": "https://localhost:8080/",
     "height": 68
    },
    "colab_type": "code",
    "id": "ogZFMW5i48GQ",
    "outputId": "ae513977-bce3-48dc-af81-9b51f0f10952"
   },
   "outputs": [
    {
     "name": "stdout",
     "output_type": "stream",
     "text": [
      "Found 2800 images belonging to 7 classes.\n",
      "Found 280 images belonging to 7 classes.\n",
      "Found 560 images belonging to 7 classes.\n"
     ]
    }
   ],
   "source": [
    "batch_size=16\n",
    "\n",
    "train_datagen = ImageDataGenerator(\n",
    "    rescale=1./255,\n",
    "    rotation_range=40,\n",
    "    width_shift_range=0.2,\n",
    "    height_shift_range=0.2,\n",
    "    shear_range=0.2,\n",
    "    zoom_range=0.2,\n",
    "    horizontal_flip=True,)\n",
    "\n",
    "# Note that the validation  and test data should not be augmented!\n",
    "validation_datagen=ImageDataGenerator(rescale=1./255)\n",
    "\n",
    "test_datagen = ImageDataGenerator(rescale=1./255)\n",
    "\n",
    "train_generator = train_datagen.flow_from_directory(\n",
    "        # This is the target directory\n",
    "        resized_images_100_100_train_dir,\n",
    "        target_size=(100, 100),\n",
    "        batch_size=batch_size)\n",
    "\n",
    "validation_generator = validation_datagen.flow_from_directory(\n",
    "        resized_images_100_100_validation_dir,\n",
    "        target_size=(100, 100),\n",
    "        batch_size=batch_size, shuffle=False)\n",
    "\n",
    "test_generator = test_datagen.flow_from_directory(\n",
    "        resized_images_100_100_test_dir,\n",
    "        target_size=(100, 100),\n",
    "        batch_size=batch_size, shuffle=False)"
   ]
  },
  {
   "cell_type": "code",
   "execution_count": 5,
   "metadata": {
    "colab": {},
    "colab_type": "code",
    "id": "1Uxwe6NN5Hda"
   },
   "outputs": [],
   "source": [
    "number_of_training_samples=2800\n",
    "number_of_validation_samples=280\n",
    "number_of_test_samples=560"
   ]
  },
  {
   "cell_type": "markdown",
   "metadata": {
    "colab_type": "text",
    "id": "P5xZn1dTlHRp"
   },
   "source": [
    "## Model Training\n",
    "Now we train and validate our model on regular images:"
   ]
  },
  {
   "cell_type": "code",
   "execution_count": null,
   "metadata": {
    "colab": {
     "base_uri": "https://localhost:8080/",
     "height": 1000
    },
    "colab_type": "code",
    "id": "RGbdm0SZ5Ohf",
    "outputId": "15c2bdbd-c027-4700-8690-09d4acb8201b"
   },
   "outputs": [
    {
     "name": "stdout",
     "output_type": "stream",
     "text": [
      "WARNING:tensorflow:From <ipython-input-8-3f7d8cfca181>:9: Model.fit_generator (from tensorflow.python.keras.engine.training) is deprecated and will be removed in a future version.\n",
      "Instructions for updating:\n",
      "Please use Model.fit, which supports generators.\n",
      "Epoch 1/400\n",
      "  2/175 [..............................] - ETA: 14s - loss: 2.0138 - categorical_accuracy: 0.1562WARNING:tensorflow:Callbacks method `on_train_batch_end` is slow compared to the batch time (batch time: 0.0660s vs `on_train_batch_end` time: 0.1008s). Check your callbacks.\n",
      "175/175 [==============================] - 30s 173ms/step - loss: 1.8853 - categorical_accuracy: 0.2175 - val_loss: 1.7256 - val_categorical_accuracy: 0.3162\n",
      "Epoch 2/400\n",
      "175/175 [==============================] - 30s 171ms/step - loss: 1.7358 - categorical_accuracy: 0.2714 - val_loss: 1.6409 - val_categorical_accuracy: 0.3382\n",
      "Epoch 3/400\n",
      "175/175 [==============================] - 30s 171ms/step - loss: 1.5626 - categorical_accuracy: 0.3621 - val_loss: 1.4211 - val_categorical_accuracy: 0.4743\n",
      "Epoch 4/400\n",
      "175/175 [==============================] - 30s 171ms/step - loss: 1.4548 - categorical_accuracy: 0.4050 - val_loss: 1.2699 - val_categorical_accuracy: 0.4522\n",
      "Epoch 5/400\n",
      "175/175 [==============================] - 30s 170ms/step - loss: 1.3902 - categorical_accuracy: 0.4186 - val_loss: 1.3137 - val_categorical_accuracy: 0.5000\n",
      "Epoch 6/400\n",
      "175/175 [==============================] - 30s 170ms/step - loss: 1.3602 - categorical_accuracy: 0.4368 - val_loss: 1.1553 - val_categorical_accuracy: 0.5368\n",
      "Epoch 7/400\n",
      "175/175 [==============================] - 30s 170ms/step - loss: 1.3638 - categorical_accuracy: 0.4468 - val_loss: 1.1629 - val_categorical_accuracy: 0.5074\n",
      "Epoch 8/400\n",
      "175/175 [==============================] - 30s 169ms/step - loss: 1.2965 - categorical_accuracy: 0.4796 - val_loss: 1.1811 - val_categorical_accuracy: 0.4890\n",
      "Epoch 9/400\n",
      "175/175 [==============================] - 30s 170ms/step - loss: 1.2786 - categorical_accuracy: 0.4900 - val_loss: 1.0621 - val_categorical_accuracy: 0.5772\n",
      "Epoch 10/400\n",
      "175/175 [==============================] - 30s 169ms/step - loss: 1.2175 - categorical_accuracy: 0.5168 - val_loss: 1.1126 - val_categorical_accuracy: 0.5772\n",
      "Epoch 11/400\n",
      "175/175 [==============================] - 30s 170ms/step - loss: 1.2133 - categorical_accuracy: 0.5225 - val_loss: 1.0296 - val_categorical_accuracy: 0.6176\n",
      "Epoch 12/400\n",
      "175/175 [==============================] - 30s 170ms/step - loss: 1.1983 - categorical_accuracy: 0.5307 - val_loss: 1.0190 - val_categorical_accuracy: 0.6103\n",
      "Epoch 13/400\n",
      "175/175 [==============================] - 30s 169ms/step - loss: 1.1707 - categorical_accuracy: 0.5514 - val_loss: 1.0234 - val_categorical_accuracy: 0.6066\n",
      "Epoch 14/400\n",
      "175/175 [==============================] - 30s 171ms/step - loss: 1.1283 - categorical_accuracy: 0.5643 - val_loss: 1.0129 - val_categorical_accuracy: 0.6434\n",
      "Epoch 15/400\n",
      "175/175 [==============================] - 30s 170ms/step - loss: 1.0991 - categorical_accuracy: 0.5771 - val_loss: 1.0023 - val_categorical_accuracy: 0.6029\n",
      "Epoch 16/400\n",
      "175/175 [==============================] - 30s 170ms/step - loss: 1.0550 - categorical_accuracy: 0.5975 - val_loss: 0.9417 - val_categorical_accuracy: 0.6360\n",
      "Epoch 17/400\n",
      "175/175 [==============================] - 30s 169ms/step - loss: 1.0762 - categorical_accuracy: 0.5900 - val_loss: 0.9532 - val_categorical_accuracy: 0.6287\n",
      "Epoch 18/400\n",
      "175/175 [==============================] - 30s 170ms/step - loss: 1.0154 - categorical_accuracy: 0.6107 - val_loss: 0.8738 - val_categorical_accuracy: 0.6949\n",
      "Epoch 19/400\n",
      "175/175 [==============================] - 30s 169ms/step - loss: 1.0064 - categorical_accuracy: 0.6132 - val_loss: 0.9058 - val_categorical_accuracy: 0.6397\n",
      "Epoch 20/400\n",
      "175/175 [==============================] - 30s 169ms/step - loss: 0.9533 - categorical_accuracy: 0.6350 - val_loss: 0.9793 - val_categorical_accuracy: 0.6838\n",
      "Epoch 21/400\n",
      "175/175 [==============================] - 30s 170ms/step - loss: 0.9439 - categorical_accuracy: 0.6325 - val_loss: 0.8197 - val_categorical_accuracy: 0.7022\n",
      "Epoch 22/400\n",
      "175/175 [==============================] - 30s 169ms/step - loss: 0.9622 - categorical_accuracy: 0.6361 - val_loss: 0.8421 - val_categorical_accuracy: 0.7022\n",
      "Epoch 23/400\n",
      "175/175 [==============================] - 30s 171ms/step - loss: 0.9220 - categorical_accuracy: 0.6561 - val_loss: 0.7608 - val_categorical_accuracy: 0.7426\n",
      "Epoch 24/400\n",
      "175/175 [==============================] - 30s 170ms/step - loss: 0.8913 - categorical_accuracy: 0.6779 - val_loss: 0.7906 - val_categorical_accuracy: 0.6728\n",
      "Epoch 25/400\n",
      "175/175 [==============================] - 30s 169ms/step - loss: 0.8382 - categorical_accuracy: 0.6993 - val_loss: 0.7809 - val_categorical_accuracy: 0.7169\n",
      "Epoch 26/400\n",
      "175/175 [==============================] - 30s 170ms/step - loss: 0.8265 - categorical_accuracy: 0.7021 - val_loss: 0.7818 - val_categorical_accuracy: 0.7243\n",
      "Epoch 27/400\n",
      "175/175 [==============================] - 30s 171ms/step - loss: 0.8485 - categorical_accuracy: 0.6936 - val_loss: 0.6912 - val_categorical_accuracy: 0.7500\n",
      "Epoch 28/400\n",
      "175/175 [==============================] - 30s 169ms/step - loss: 0.7995 - categorical_accuracy: 0.7096 - val_loss: 0.7714 - val_categorical_accuracy: 0.7132\n",
      "Epoch 29/400\n",
      "175/175 [==============================] - 30s 171ms/step - loss: 0.7754 - categorical_accuracy: 0.7143 - val_loss: 0.6792 - val_categorical_accuracy: 0.7243\n",
      "Epoch 30/400\n",
      "175/175 [==============================] - 30s 169ms/step - loss: 0.7940 - categorical_accuracy: 0.7168 - val_loss: 0.7831 - val_categorical_accuracy: 0.6949\n",
      "Epoch 31/400\n",
      "175/175 [==============================] - 30s 170ms/step - loss: 0.7720 - categorical_accuracy: 0.7279 - val_loss: 0.7172 - val_categorical_accuracy: 0.7426\n",
      "Epoch 32/400\n",
      "175/175 [==============================] - 30s 169ms/step - loss: 0.7451 - categorical_accuracy: 0.7325 - val_loss: 0.7717 - val_categorical_accuracy: 0.6949\n",
      "Epoch 33/400\n",
      "175/175 [==============================] - 30s 170ms/step - loss: 0.7383 - categorical_accuracy: 0.7314 - val_loss: 0.6453 - val_categorical_accuracy: 0.7463\n",
      "Epoch 34/400\n",
      "175/175 [==============================] - 30s 169ms/step - loss: 0.7336 - categorical_accuracy: 0.7346 - val_loss: 0.6875 - val_categorical_accuracy: 0.7647\n",
      "Epoch 35/400\n",
      "175/175 [==============================] - 30s 169ms/step - loss: 0.7117 - categorical_accuracy: 0.7489 - val_loss: 0.7000 - val_categorical_accuracy: 0.7426\n",
      "Epoch 36/400\n",
      "175/175 [==============================] - 30s 171ms/step - loss: 0.6918 - categorical_accuracy: 0.7529 - val_loss: 0.6289 - val_categorical_accuracy: 0.7647\n",
      "Epoch 37/400\n",
      "175/175 [==============================] - 30s 169ms/step - loss: 0.6618 - categorical_accuracy: 0.7614 - val_loss: 0.6603 - val_categorical_accuracy: 0.7721\n",
      "Epoch 38/400\n",
      "175/175 [==============================] - 30s 169ms/step - loss: 0.6408 - categorical_accuracy: 0.7661 - val_loss: 0.7112 - val_categorical_accuracy: 0.7132\n",
      "Epoch 39/400\n",
      "175/175 [==============================] - 30s 170ms/step - loss: 0.6307 - categorical_accuracy: 0.7754 - val_loss: 0.6206 - val_categorical_accuracy: 0.7794\n",
      "Epoch 40/400\n",
      "175/175 [==============================] - 30s 170ms/step - loss: 0.6322 - categorical_accuracy: 0.7736 - val_loss: 0.6451 - val_categorical_accuracy: 0.7537\n",
      "Epoch 41/400\n",
      "175/175 [==============================] - 30s 169ms/step - loss: 0.6373 - categorical_accuracy: 0.7729 - val_loss: 0.7626 - val_categorical_accuracy: 0.7463\n",
      "Epoch 42/400\n",
      "175/175 [==============================] - 30s 170ms/step - loss: 0.6148 - categorical_accuracy: 0.7836 - val_loss: 0.5923 - val_categorical_accuracy: 0.7868\n",
      "Epoch 43/400\n",
      "175/175 [==============================] - 30s 169ms/step - loss: 0.6294 - categorical_accuracy: 0.7754 - val_loss: 0.6710 - val_categorical_accuracy: 0.7353\n",
      "Epoch 44/400\n",
      "175/175 [==============================] - 30s 171ms/step - loss: 0.5959 - categorical_accuracy: 0.7907 - val_loss: 0.5849 - val_categorical_accuracy: 0.7978\n",
      "Epoch 45/400\n",
      "175/175 [==============================] - 30s 170ms/step - loss: 0.6102 - categorical_accuracy: 0.7886 - val_loss: 0.5719 - val_categorical_accuracy: 0.7721\n",
      "Epoch 46/400\n",
      "175/175 [==============================] - 30s 169ms/step - loss: 0.6070 - categorical_accuracy: 0.7900 - val_loss: 0.5727 - val_categorical_accuracy: 0.7868\n",
      "Epoch 47/400\n",
      "175/175 [==============================] - 30s 170ms/step - loss: 0.5960 - categorical_accuracy: 0.7943 - val_loss: 0.7396 - val_categorical_accuracy: 0.7206\n",
      "Epoch 48/400\n",
      "175/175 [==============================] - 30s 169ms/step - loss: 0.5727 - categorical_accuracy: 0.7957 - val_loss: 0.6281 - val_categorical_accuracy: 0.7610\n",
      "Epoch 49/400\n",
      "175/175 [==============================] - 30s 169ms/step - loss: 0.6040 - categorical_accuracy: 0.7907 - val_loss: 0.5772 - val_categorical_accuracy: 0.7610\n",
      "Epoch 50/400\n",
      "175/175 [==============================] - 30s 171ms/step - loss: 0.5727 - categorical_accuracy: 0.7996 - val_loss: 0.5660 - val_categorical_accuracy: 0.8015\n",
      "Epoch 51/400\n",
      "175/175 [==============================] - 30s 170ms/step - loss: 0.5631 - categorical_accuracy: 0.8046 - val_loss: 0.7258 - val_categorical_accuracy: 0.7426\n",
      "Epoch 52/400\n",
      "175/175 [==============================] - 30s 170ms/step - loss: 0.5384 - categorical_accuracy: 0.8186 - val_loss: 0.5177 - val_categorical_accuracy: 0.7941\n",
      "Epoch 53/400\n",
      "175/175 [==============================] - 30s 170ms/step - loss: 0.5202 - categorical_accuracy: 0.8207 - val_loss: 0.6339 - val_categorical_accuracy: 0.7574\n",
      "Epoch 54/400\n",
      "175/175 [==============================] - 30s 169ms/step - loss: 0.5898 - categorical_accuracy: 0.7996 - val_loss: 0.5569 - val_categorical_accuracy: 0.7941\n",
      "Epoch 55/400\n",
      "175/175 [==============================] - 30s 169ms/step - loss: 0.5287 - categorical_accuracy: 0.8143 - val_loss: 0.5400 - val_categorical_accuracy: 0.8051\n",
      "Epoch 56/400\n",
      "175/175 [==============================] - 30s 170ms/step - loss: 0.5156 - categorical_accuracy: 0.8282 - val_loss: 0.5363 - val_categorical_accuracy: 0.8199\n",
      "Epoch 57/400\n",
      "175/175 [==============================] - 30s 170ms/step - loss: 0.5145 - categorical_accuracy: 0.8264 - val_loss: 0.5724 - val_categorical_accuracy: 0.8125\n",
      "Epoch 58/400\n",
      "175/175 [==============================] - 30s 170ms/step - loss: 0.4799 - categorical_accuracy: 0.8414 - val_loss: 0.5039 - val_categorical_accuracy: 0.7978\n",
      "Epoch 59/400\n",
      "175/175 [==============================] - 30s 170ms/step - loss: 0.4900 - categorical_accuracy: 0.8318 - val_loss: 0.4702 - val_categorical_accuracy: 0.8235\n",
      "Epoch 60/400\n",
      "175/175 [==============================] - 30s 169ms/step - loss: 0.5014 - categorical_accuracy: 0.8293 - val_loss: 0.6042 - val_categorical_accuracy: 0.7868\n",
      "Epoch 61/400\n",
      "175/175 [==============================] - 30s 169ms/step - loss: 0.4612 - categorical_accuracy: 0.8486 - val_loss: 0.5872 - val_categorical_accuracy: 0.8125\n",
      "Epoch 62/400\n",
      "175/175 [==============================] - 30s 169ms/step - loss: 0.4694 - categorical_accuracy: 0.8407 - val_loss: 0.5252 - val_categorical_accuracy: 0.8529\n",
      "Epoch 63/400\n",
      "175/175 [==============================] - 30s 169ms/step - loss: 0.4656 - categorical_accuracy: 0.8404 - val_loss: 0.5452 - val_categorical_accuracy: 0.8162\n",
      "Epoch 64/400\n",
      "175/175 [==============================] - 29s 168ms/step - loss: 0.4489 - categorical_accuracy: 0.8561 - val_loss: 0.6429 - val_categorical_accuracy: 0.8125\n",
      "Epoch 65/400\n",
      "175/175 [==============================] - 30s 169ms/step - loss: 0.4485 - categorical_accuracy: 0.8571 - val_loss: 0.5351 - val_categorical_accuracy: 0.8456\n",
      "Epoch 66/400\n",
      "175/175 [==============================] - 30s 169ms/step - loss: 0.4524 - categorical_accuracy: 0.8486 - val_loss: 0.5756 - val_categorical_accuracy: 0.8088\n",
      "Epoch 67/400\n",
      "175/175 [==============================] - 30s 170ms/step - loss: 0.4262 - categorical_accuracy: 0.8529 - val_loss: 0.5073 - val_categorical_accuracy: 0.8272\n",
      "Epoch 68/400\n",
      "175/175 [==============================] - 30s 169ms/step - loss: 0.4253 - categorical_accuracy: 0.8650 - val_loss: 0.5212 - val_categorical_accuracy: 0.8529\n",
      "Epoch 69/400\n",
      "175/175 [==============================] - 30s 169ms/step - loss: 0.4263 - categorical_accuracy: 0.8629 - val_loss: 0.5949 - val_categorical_accuracy: 0.8272\n",
      "Epoch 70/400\n",
      "175/175 [==============================] - 30s 169ms/step - loss: 0.4045 - categorical_accuracy: 0.8704 - val_loss: 0.5448 - val_categorical_accuracy: 0.8272\n",
      "Epoch 71/400\n",
      "175/175 [==============================] - 30s 169ms/step - loss: 0.4030 - categorical_accuracy: 0.8700 - val_loss: 0.5663 - val_categorical_accuracy: 0.8382\n",
      "Epoch 72/400\n",
      "175/175 [==============================] - 30s 169ms/step - loss: 0.4123 - categorical_accuracy: 0.8686 - val_loss: 0.5406 - val_categorical_accuracy: 0.8162\n",
      "Epoch 73/400\n",
      "175/175 [==============================] - 30s 169ms/step - loss: 0.4214 - categorical_accuracy: 0.8611 - val_loss: 0.5319 - val_categorical_accuracy: 0.8419\n",
      "Epoch 74/400\n",
      "175/175 [==============================] - 30s 169ms/step - loss: 0.3865 - categorical_accuracy: 0.8789 - val_loss: 0.7500 - val_categorical_accuracy: 0.8051\n",
      "Epoch 75/400\n",
      "175/175 [==============================] - 30s 170ms/step - loss: 0.4250 - categorical_accuracy: 0.8621 - val_loss: 0.4167 - val_categorical_accuracy: 0.8529\n",
      "Epoch 76/400\n",
      "175/175 [==============================] - 30s 169ms/step - loss: 0.3663 - categorical_accuracy: 0.8821 - val_loss: 0.4615 - val_categorical_accuracy: 0.8676\n",
      "Epoch 77/400\n",
      "175/175 [==============================] - 30s 169ms/step - loss: 0.3749 - categorical_accuracy: 0.8836 - val_loss: 0.4217 - val_categorical_accuracy: 0.8529\n",
      "Epoch 78/400\n",
      "175/175 [==============================] - 30s 170ms/step - loss: 0.3717 - categorical_accuracy: 0.8839 - val_loss: 0.4598 - val_categorical_accuracy: 0.8456\n",
      "Epoch 79/400\n",
      "175/175 [==============================] - 30s 169ms/step - loss: 0.4341 - categorical_accuracy: 0.8675 - val_loss: 0.4796 - val_categorical_accuracy: 0.8346\n",
      "Epoch 80/400\n",
      "175/175 [==============================] - 30s 170ms/step - loss: 0.3879 - categorical_accuracy: 0.8736 - val_loss: 0.4109 - val_categorical_accuracy: 0.8824\n",
      "Epoch 81/400\n",
      "175/175 [==============================] - 30s 169ms/step - loss: 0.3939 - categorical_accuracy: 0.8700 - val_loss: 0.6060 - val_categorical_accuracy: 0.8346\n",
      "Epoch 82/400\n",
      "175/175 [==============================] - 30s 169ms/step - loss: 0.3444 - categorical_accuracy: 0.8850 - val_loss: 0.6606 - val_categorical_accuracy: 0.8346\n",
      "Epoch 83/400\n",
      "175/175 [==============================] - 30s 169ms/step - loss: 0.4018 - categorical_accuracy: 0.8796 - val_loss: 0.4892 - val_categorical_accuracy: 0.8860\n",
      "Epoch 84/400\n",
      "175/175 [==============================] - 30s 170ms/step - loss: 0.3527 - categorical_accuracy: 0.8900 - val_loss: 0.6013 - val_categorical_accuracy: 0.8272\n",
      "Epoch 85/400\n",
      "175/175 [==============================] - 30s 169ms/step - loss: 0.3677 - categorical_accuracy: 0.8832 - val_loss: 0.4486 - val_categorical_accuracy: 0.8272\n",
      "Epoch 86/400\n",
      "175/175 [==============================] - 30s 170ms/step - loss: 0.3395 - categorical_accuracy: 0.8882 - val_loss: 0.6144 - val_categorical_accuracy: 0.7868\n",
      "Epoch 87/400\n",
      "175/175 [==============================] - 30s 170ms/step - loss: 0.3433 - categorical_accuracy: 0.8921 - val_loss: 0.4714 - val_categorical_accuracy: 0.8566\n",
      "Epoch 88/400\n",
      "175/175 [==============================] - 30s 171ms/step - loss: 0.3761 - categorical_accuracy: 0.8814 - val_loss: 0.3898 - val_categorical_accuracy: 0.8676\n",
      "Epoch 89/400\n",
      "175/175 [==============================] - 30s 170ms/step - loss: 0.3490 - categorical_accuracy: 0.8918 - val_loss: 0.3489 - val_categorical_accuracy: 0.8824\n",
      "Epoch 90/400\n",
      "175/175 [==============================] - 30s 170ms/step - loss: 0.3564 - categorical_accuracy: 0.8871 - val_loss: 0.3899 - val_categorical_accuracy: 0.8676\n",
      "Epoch 91/400\n",
      "175/175 [==============================] - 30s 170ms/step - loss: 0.3450 - categorical_accuracy: 0.8907 - val_loss: 0.3941 - val_categorical_accuracy: 0.8750\n",
      "Epoch 92/400\n",
      "175/175 [==============================] - 30s 169ms/step - loss: 0.3605 - categorical_accuracy: 0.8886 - val_loss: 0.3812 - val_categorical_accuracy: 0.8934\n",
      "Epoch 93/400\n",
      "175/175 [==============================] - 30s 169ms/step - loss: 0.3189 - categorical_accuracy: 0.8918 - val_loss: 0.4490 - val_categorical_accuracy: 0.8529\n",
      "Epoch 94/400\n",
      "175/175 [==============================] - 30s 169ms/step - loss: 0.3700 - categorical_accuracy: 0.8804 - val_loss: 0.4084 - val_categorical_accuracy: 0.8676\n",
      "Epoch 95/400\n",
      "175/175 [==============================] - 30s 169ms/step - loss: 0.3122 - categorical_accuracy: 0.9050 - val_loss: 0.5719 - val_categorical_accuracy: 0.8603\n",
      "Epoch 96/400\n",
      "175/175 [==============================] - 30s 169ms/step - loss: 0.3329 - categorical_accuracy: 0.8989 - val_loss: 0.4251 - val_categorical_accuracy: 0.8566\n",
      "Epoch 97/400\n",
      "175/175 [==============================] - 30s 169ms/step - loss: 0.3516 - categorical_accuracy: 0.8918 - val_loss: 0.3830 - val_categorical_accuracy: 0.8860\n",
      "Epoch 98/400\n",
      "175/175 [==============================] - 30s 169ms/step - loss: 0.3339 - categorical_accuracy: 0.8971 - val_loss: 0.4288 - val_categorical_accuracy: 0.8676\n",
      "Epoch 99/400\n",
      "175/175 [==============================] - 30s 169ms/step - loss: 0.3378 - categorical_accuracy: 0.8946 - val_loss: 0.5038 - val_categorical_accuracy: 0.8566\n",
      "Epoch 100/400\n",
      "175/175 [==============================] - 30s 169ms/step - loss: 0.3219 - categorical_accuracy: 0.9039 - val_loss: 0.5102 - val_categorical_accuracy: 0.8713\n",
      "Epoch 101/400\n",
      "175/175 [==============================] - 30s 169ms/step - loss: 0.3114 - categorical_accuracy: 0.8996 - val_loss: 0.3755 - val_categorical_accuracy: 0.8713\n",
      "Epoch 102/400\n",
      "175/175 [==============================] - 30s 169ms/step - loss: 0.2791 - categorical_accuracy: 0.9154 - val_loss: 0.3872 - val_categorical_accuracy: 0.8603\n",
      "Epoch 103/400\n",
      "175/175 [==============================] - 29s 168ms/step - loss: 0.3013 - categorical_accuracy: 0.9029 - val_loss: 0.4648 - val_categorical_accuracy: 0.8566\n",
      "Epoch 104/400\n",
      "175/175 [==============================] - 30s 169ms/step - loss: 0.3324 - categorical_accuracy: 0.8979 - val_loss: 0.5970 - val_categorical_accuracy: 0.8456\n",
      "Epoch 105/400\n",
      "175/175 [==============================] - 30s 169ms/step - loss: 0.3554 - categorical_accuracy: 0.8836 - val_loss: 0.4709 - val_categorical_accuracy: 0.8860\n",
      "Epoch 106/400\n",
      "175/175 [==============================] - 30s 169ms/step - loss: 0.2859 - categorical_accuracy: 0.9071 - val_loss: 0.4355 - val_categorical_accuracy: 0.8787\n",
      "Epoch 107/400\n",
      "175/175 [==============================] - 30s 170ms/step - loss: 0.2698 - categorical_accuracy: 0.9168 - val_loss: 0.3349 - val_categorical_accuracy: 0.9007\n",
      "Epoch 108/400\n",
      "175/175 [==============================] - 30s 169ms/step - loss: 0.3078 - categorical_accuracy: 0.9061 - val_loss: 0.4376 - val_categorical_accuracy: 0.8787\n",
      "Epoch 109/400\n",
      "175/175 [==============================] - 30s 169ms/step - loss: 0.3103 - categorical_accuracy: 0.9036 - val_loss: 0.3752 - val_categorical_accuracy: 0.9007\n",
      "Epoch 110/400\n",
      "175/175 [==============================] - 29s 168ms/step - loss: 0.3053 - categorical_accuracy: 0.9125 - val_loss: 0.4385 - val_categorical_accuracy: 0.8860\n",
      "Epoch 111/400\n",
      "175/175 [==============================] - 30s 169ms/step - loss: 0.2830 - categorical_accuracy: 0.9118 - val_loss: 0.4181 - val_categorical_accuracy: 0.8750\n",
      "Epoch 112/400\n",
      "175/175 [==============================] - 30s 169ms/step - loss: 0.2778 - categorical_accuracy: 0.9129 - val_loss: 0.4625 - val_categorical_accuracy: 0.8676\n",
      "Epoch 113/400\n",
      "175/175 [==============================] - 29s 168ms/step - loss: 0.2962 - categorical_accuracy: 0.9114 - val_loss: 0.3409 - val_categorical_accuracy: 0.9044\n",
      "Epoch 114/400\n",
      "175/175 [==============================] - 29s 168ms/step - loss: 0.2816 - categorical_accuracy: 0.9093 - val_loss: 0.3961 - val_categorical_accuracy: 0.8824\n",
      "Epoch 115/400\n",
      "175/175 [==============================] - 30s 169ms/step - loss: 0.2805 - categorical_accuracy: 0.9182 - val_loss: 0.3716 - val_categorical_accuracy: 0.8713\n",
      "Epoch 116/400\n",
      "175/175 [==============================] - 30s 169ms/step - loss: 0.2953 - categorical_accuracy: 0.9068 - val_loss: 0.3777 - val_categorical_accuracy: 0.8860\n",
      "Epoch 117/400\n",
      "175/175 [==============================] - 30s 169ms/step - loss: 0.2797 - categorical_accuracy: 0.9100 - val_loss: 0.4362 - val_categorical_accuracy: 0.8603\n",
      "Epoch 118/400\n",
      "175/175 [==============================] - 30s 169ms/step - loss: 0.3016 - categorical_accuracy: 0.9079 - val_loss: 0.3520 - val_categorical_accuracy: 0.8824\n",
      "Epoch 119/400\n",
      "175/175 [==============================] - 29s 169ms/step - loss: 0.2685 - categorical_accuracy: 0.9193 - val_loss: 0.4322 - val_categorical_accuracy: 0.9081\n",
      "Epoch 120/400\n",
      "175/175 [==============================] - 30s 169ms/step - loss: 0.2798 - categorical_accuracy: 0.9171 - val_loss: 0.4223 - val_categorical_accuracy: 0.8934\n",
      "Epoch 121/400\n",
      "175/175 [==============================] - 30s 169ms/step - loss: 0.2681 - categorical_accuracy: 0.9186 - val_loss: 0.4139 - val_categorical_accuracy: 0.8860\n",
      "Epoch 122/400\n",
      "175/175 [==============================] - 30s 169ms/step - loss: 0.2373 - categorical_accuracy: 0.9279 - val_loss: 0.4389 - val_categorical_accuracy: 0.8382\n",
      "Epoch 123/400\n",
      "175/175 [==============================] - 30s 169ms/step - loss: 0.2498 - categorical_accuracy: 0.9207 - val_loss: 0.4054 - val_categorical_accuracy: 0.8860\n",
      "Epoch 124/400\n",
      "175/175 [==============================] - 30s 170ms/step - loss: 0.2819 - categorical_accuracy: 0.9150 - val_loss: 0.4603 - val_categorical_accuracy: 0.8824\n",
      "Epoch 125/400\n",
      "175/175 [==============================] - 30s 169ms/step - loss: 0.2603 - categorical_accuracy: 0.9204 - val_loss: 0.3423 - val_categorical_accuracy: 0.9154\n",
      "Epoch 126/400\n",
      "175/175 [==============================] - 30s 169ms/step - loss: 0.2363 - categorical_accuracy: 0.9318 - val_loss: 0.4891 - val_categorical_accuracy: 0.8382\n",
      "Epoch 127/400\n",
      "175/175 [==============================] - 30s 169ms/step - loss: 0.2521 - categorical_accuracy: 0.9214 - val_loss: 0.4859 - val_categorical_accuracy: 0.8750\n",
      "Epoch 128/400\n",
      "175/175 [==============================] - 30s 170ms/step - loss: 0.2477 - categorical_accuracy: 0.9229 - val_loss: 0.4321 - val_categorical_accuracy: 0.8676\n",
      "Epoch 129/400\n",
      "175/175 [==============================] - 30s 170ms/step - loss: 0.2259 - categorical_accuracy: 0.9304 - val_loss: 0.3812 - val_categorical_accuracy: 0.8897\n",
      "Epoch 130/400\n",
      "175/175 [==============================] - 30s 170ms/step - loss: 0.2435 - categorical_accuracy: 0.9264 - val_loss: 0.4227 - val_categorical_accuracy: 0.9044\n",
      "Epoch 131/400\n",
      "175/175 [==============================] - 30s 169ms/step - loss: 0.2273 - categorical_accuracy: 0.9296 - val_loss: 0.5404 - val_categorical_accuracy: 0.8529\n",
      "Epoch 132/400\n",
      "175/175 [==============================] - 30s 170ms/step - loss: 0.2648 - categorical_accuracy: 0.9236 - val_loss: 0.3411 - val_categorical_accuracy: 0.8897\n",
      "Epoch 133/400\n",
      "175/175 [==============================] - 30s 169ms/step - loss: 0.2569 - categorical_accuracy: 0.9243 - val_loss: 0.3780 - val_categorical_accuracy: 0.9007\n",
      "Epoch 134/400\n",
      "175/175 [==============================] - 30s 169ms/step - loss: 0.2446 - categorical_accuracy: 0.9246 - val_loss: 0.3569 - val_categorical_accuracy: 0.8750\n",
      "Epoch 135/400\n",
      "175/175 [==============================] - 30s 170ms/step - loss: 0.2331 - categorical_accuracy: 0.9318 - val_loss: 0.4157 - val_categorical_accuracy: 0.8971\n",
      "Epoch 136/400\n",
      "175/175 [==============================] - 30s 170ms/step - loss: 0.2173 - categorical_accuracy: 0.9357 - val_loss: 0.3289 - val_categorical_accuracy: 0.8971\n",
      "Epoch 137/400\n",
      "175/175 [==============================] - 30s 170ms/step - loss: 0.2128 - categorical_accuracy: 0.9379 - val_loss: 0.3281 - val_categorical_accuracy: 0.8971\n",
      "Epoch 138/400\n",
      "175/175 [==============================] - 30s 170ms/step - loss: 0.2528 - categorical_accuracy: 0.9232 - val_loss: 0.4296 - val_categorical_accuracy: 0.8713\n",
      "Epoch 139/400\n",
      "175/175 [==============================] - 30s 170ms/step - loss: 0.2385 - categorical_accuracy: 0.9268 - val_loss: 0.3094 - val_categorical_accuracy: 0.9007\n",
      "Epoch 140/400\n",
      "175/175 [==============================] - 30s 169ms/step - loss: 0.2303 - categorical_accuracy: 0.9311 - val_loss: 0.3646 - val_categorical_accuracy: 0.8897\n",
      "Epoch 141/400\n",
      "175/175 [==============================] - 30s 170ms/step - loss: 0.2169 - categorical_accuracy: 0.9361 - val_loss: 0.4137 - val_categorical_accuracy: 0.8824\n",
      "Epoch 142/400\n",
      "175/175 [==============================] - 30s 170ms/step - loss: 0.2360 - categorical_accuracy: 0.9296 - val_loss: 0.3562 - val_categorical_accuracy: 0.8971\n",
      "Epoch 143/400\n",
      "175/175 [==============================] - 30s 169ms/step - loss: 0.2211 - categorical_accuracy: 0.9354 - val_loss: 0.3122 - val_categorical_accuracy: 0.9118\n",
      "Epoch 144/400\n",
      "175/175 [==============================] - 30s 169ms/step - loss: 0.2251 - categorical_accuracy: 0.9339 - val_loss: 0.3994 - val_categorical_accuracy: 0.8897\n",
      "Epoch 145/400\n",
      "175/175 [==============================] - 30s 170ms/step - loss: 0.2343 - categorical_accuracy: 0.9296 - val_loss: 0.3638 - val_categorical_accuracy: 0.8824\n",
      "Epoch 146/400\n",
      "175/175 [==============================] - 30s 170ms/step - loss: 0.2396 - categorical_accuracy: 0.9243 - val_loss: 0.3712 - val_categorical_accuracy: 0.8750\n",
      "Epoch 147/400\n",
      "175/175 [==============================] - 30s 170ms/step - loss: 0.1897 - categorical_accuracy: 0.9425 - val_loss: 0.4191 - val_categorical_accuracy: 0.8750\n",
      "Epoch 148/400\n",
      "175/175 [==============================] - 30s 169ms/step - loss: 0.2414 - categorical_accuracy: 0.9293 - val_loss: 0.3615 - val_categorical_accuracy: 0.8750\n",
      "Epoch 149/400\n",
      "175/175 [==============================] - 30s 169ms/step - loss: 0.1989 - categorical_accuracy: 0.9418 - val_loss: 0.4202 - val_categorical_accuracy: 0.8971\n",
      "Epoch 150/400\n",
      "175/175 [==============================] - 30s 169ms/step - loss: 0.2082 - categorical_accuracy: 0.9368 - val_loss: 0.4191 - val_categorical_accuracy: 0.8860\n",
      "Epoch 151/400\n",
      "175/175 [==============================] - 30s 171ms/step - loss: 0.2099 - categorical_accuracy: 0.9375 - val_loss: 0.2910 - val_categorical_accuracy: 0.8971\n",
      "Epoch 152/400\n",
      "175/175 [==============================] - 30s 170ms/step - loss: 0.1955 - categorical_accuracy: 0.9414 - val_loss: 0.4103 - val_categorical_accuracy: 0.8787\n",
      "Epoch 153/400\n",
      "175/175 [==============================] - 30s 169ms/step - loss: 0.2195 - categorical_accuracy: 0.9343 - val_loss: 0.3555 - val_categorical_accuracy: 0.9118\n",
      "Epoch 154/400\n",
      "175/175 [==============================] - 30s 169ms/step - loss: 0.2009 - categorical_accuracy: 0.9418 - val_loss: 0.4169 - val_categorical_accuracy: 0.9044\n",
      "Epoch 155/400\n",
      "175/175 [==============================] - 30s 169ms/step - loss: 0.2198 - categorical_accuracy: 0.9354 - val_loss: 0.5120 - val_categorical_accuracy: 0.8824\n",
      "Epoch 156/400\n",
      "175/175 [==============================] - 30s 170ms/step - loss: 0.1849 - categorical_accuracy: 0.9479 - val_loss: 0.2783 - val_categorical_accuracy: 0.9154\n",
      "Epoch 157/400\n",
      "175/175 [==============================] - 30s 170ms/step - loss: 0.2082 - categorical_accuracy: 0.9429 - val_loss: 0.4227 - val_categorical_accuracy: 0.8934\n",
      "Epoch 158/400\n",
      "175/175 [==============================] - 30s 169ms/step - loss: 0.1893 - categorical_accuracy: 0.9436 - val_loss: 0.4048 - val_categorical_accuracy: 0.8824\n",
      "Epoch 159/400\n",
      "175/175 [==============================] - 30s 170ms/step - loss: 0.2188 - categorical_accuracy: 0.9375 - val_loss: 0.3831 - val_categorical_accuracy: 0.9044\n",
      "Epoch 160/400\n",
      "175/175 [==============================] - 30s 169ms/step - loss: 0.2049 - categorical_accuracy: 0.9396 - val_loss: 0.4775 - val_categorical_accuracy: 0.8750\n",
      "Epoch 161/400\n",
      "175/175 [==============================] - 30s 170ms/step - loss: 0.2039 - categorical_accuracy: 0.9354 - val_loss: 0.3730 - val_categorical_accuracy: 0.9081\n",
      "Epoch 162/400\n",
      "175/175 [==============================] - 30s 169ms/step - loss: 0.2212 - categorical_accuracy: 0.9329 - val_loss: 0.3460 - val_categorical_accuracy: 0.9044\n",
      "Epoch 163/400\n",
      "175/175 [==============================] - 30s 170ms/step - loss: 0.1804 - categorical_accuracy: 0.9486 - val_loss: 0.2215 - val_categorical_accuracy: 0.9118\n",
      "Epoch 164/400\n",
      "175/175 [==============================] - 30s 169ms/step - loss: 0.2026 - categorical_accuracy: 0.9400 - val_loss: 0.4101 - val_categorical_accuracy: 0.8934\n",
      "Epoch 165/400\n",
      "175/175 [==============================] - 30s 170ms/step - loss: 0.2501 - categorical_accuracy: 0.9304 - val_loss: 0.3324 - val_categorical_accuracy: 0.9081\n",
      "Epoch 166/400\n",
      "175/175 [==============================] - 30s 169ms/step - loss: 0.1804 - categorical_accuracy: 0.9486 - val_loss: 0.4732 - val_categorical_accuracy: 0.8787\n",
      "Epoch 167/400\n",
      "175/175 [==============================] - 30s 170ms/step - loss: 0.1825 - categorical_accuracy: 0.9464 - val_loss: 0.3991 - val_categorical_accuracy: 0.8971\n",
      "Epoch 168/400\n",
      "175/175 [==============================] - 30s 169ms/step - loss: 0.1963 - categorical_accuracy: 0.9432 - val_loss: 0.3902 - val_categorical_accuracy: 0.9007\n",
      "Epoch 169/400\n",
      "175/175 [==============================] - 30s 169ms/step - loss: 0.1700 - categorical_accuracy: 0.9479 - val_loss: 0.3966 - val_categorical_accuracy: 0.9228\n",
      "Epoch 170/400\n",
      "175/175 [==============================] - 30s 170ms/step - loss: 0.2233 - categorical_accuracy: 0.9311 - val_loss: 0.3130 - val_categorical_accuracy: 0.9118\n",
      "Epoch 171/400\n",
      "175/175 [==============================] - 30s 169ms/step - loss: 0.2116 - categorical_accuracy: 0.9364 - val_loss: 0.3515 - val_categorical_accuracy: 0.8971\n",
      "Epoch 172/400\n",
      "175/175 [==============================] - 30s 169ms/step - loss: 0.1799 - categorical_accuracy: 0.9446 - val_loss: 0.3900 - val_categorical_accuracy: 0.8897\n",
      "Epoch 173/400\n",
      "175/175 [==============================] - 30s 170ms/step - loss: 0.1756 - categorical_accuracy: 0.9554 - val_loss: 0.3810 - val_categorical_accuracy: 0.8860\n",
      "Epoch 174/400\n",
      "175/175 [==============================] - 30s 169ms/step - loss: 0.1938 - categorical_accuracy: 0.9418 - val_loss: 0.4471 - val_categorical_accuracy: 0.8640\n",
      "Epoch 175/400\n",
      "175/175 [==============================] - 30s 169ms/step - loss: 0.2020 - categorical_accuracy: 0.9464 - val_loss: 0.2830 - val_categorical_accuracy: 0.9118\n",
      "Epoch 176/400\n",
      "175/175 [==============================] - 30s 169ms/step - loss: 0.1958 - categorical_accuracy: 0.9439 - val_loss: 0.4996 - val_categorical_accuracy: 0.8493\n",
      "Epoch 177/400\n",
      "175/175 [==============================] - 30s 169ms/step - loss: 0.1799 - categorical_accuracy: 0.9479 - val_loss: 0.4124 - val_categorical_accuracy: 0.9007\n",
      "Epoch 178/400\n",
      "175/175 [==============================] - 30s 169ms/step - loss: 0.1743 - categorical_accuracy: 0.9521 - val_loss: 0.3645 - val_categorical_accuracy: 0.9154\n",
      "Epoch 179/400\n",
      "175/175 [==============================] - 30s 170ms/step - loss: 0.1637 - categorical_accuracy: 0.9525 - val_loss: 0.3433 - val_categorical_accuracy: 0.8971\n",
      "Epoch 180/400\n",
      "175/175 [==============================] - 30s 170ms/step - loss: 0.1707 - categorical_accuracy: 0.9504 - val_loss: 0.2644 - val_categorical_accuracy: 0.8971\n",
      "Epoch 181/400\n",
      "175/175 [==============================] - 30s 170ms/step - loss: 0.1847 - categorical_accuracy: 0.9475 - val_loss: 0.3117 - val_categorical_accuracy: 0.8971\n",
      "Epoch 182/400\n",
      "175/175 [==============================] - 30s 169ms/step - loss: 0.1935 - categorical_accuracy: 0.9425 - val_loss: 0.4574 - val_categorical_accuracy: 0.8787\n",
      "Epoch 183/400\n",
      "175/175 [==============================] - 30s 170ms/step - loss: 0.1576 - categorical_accuracy: 0.9518 - val_loss: 0.3085 - val_categorical_accuracy: 0.9007\n",
      "Epoch 184/400\n",
      "175/175 [==============================] - 30s 169ms/step - loss: 0.1728 - categorical_accuracy: 0.9493 - val_loss: 0.4320 - val_categorical_accuracy: 0.8971\n",
      "Epoch 185/400\n",
      "175/175 [==============================] - 30s 170ms/step - loss: 0.1854 - categorical_accuracy: 0.9457 - val_loss: 0.3023 - val_categorical_accuracy: 0.9154\n",
      "Epoch 186/400\n",
      "175/175 [==============================] - 30s 169ms/step - loss: 0.1787 - categorical_accuracy: 0.9439 - val_loss: 0.4130 - val_categorical_accuracy: 0.8971\n",
      "Epoch 187/400\n",
      "175/175 [==============================] - 30s 169ms/step - loss: 0.1707 - categorical_accuracy: 0.9489 - val_loss: 0.4459 - val_categorical_accuracy: 0.8860\n",
      "Epoch 188/400\n",
      "175/175 [==============================] - 30s 169ms/step - loss: 0.1957 - categorical_accuracy: 0.9471 - val_loss: 0.2877 - val_categorical_accuracy: 0.8934\n",
      "Epoch 189/400\n",
      "175/175 [==============================] - 30s 170ms/step - loss: 0.1637 - categorical_accuracy: 0.9582 - val_loss: 0.3515 - val_categorical_accuracy: 0.9228\n",
      "Epoch 190/400\n",
      "175/175 [==============================] - 30s 169ms/step - loss: 0.1765 - categorical_accuracy: 0.9489 - val_loss: 0.4392 - val_categorical_accuracy: 0.9044\n",
      "Epoch 191/400\n",
      "175/175 [==============================] - 30s 170ms/step - loss: 0.1505 - categorical_accuracy: 0.9604 - val_loss: 0.4623 - val_categorical_accuracy: 0.8860\n",
      "Epoch 192/400\n",
      "175/175 [==============================] - 30s 169ms/step - loss: 0.1617 - categorical_accuracy: 0.9518 - val_loss: 0.3820 - val_categorical_accuracy: 0.8971\n",
      "Epoch 193/400\n",
      "175/175 [==============================] - 30s 170ms/step - loss: 0.1691 - categorical_accuracy: 0.9493 - val_loss: 0.4637 - val_categorical_accuracy: 0.8934\n",
      "Epoch 194/400\n",
      "175/175 [==============================] - 30s 169ms/step - loss: 0.1735 - categorical_accuracy: 0.9486 - val_loss: 0.2982 - val_categorical_accuracy: 0.9154\n",
      "Epoch 195/400\n",
      "175/175 [==============================] - 30s 169ms/step - loss: 0.1643 - categorical_accuracy: 0.9507 - val_loss: 0.5072 - val_categorical_accuracy: 0.8824\n",
      "Epoch 196/400\n",
      "175/175 [==============================] - 30s 169ms/step - loss: 0.1748 - categorical_accuracy: 0.9464 - val_loss: 0.7224 - val_categorical_accuracy: 0.8199\n",
      "Epoch 197/400\n",
      "175/175 [==============================] - 30s 170ms/step - loss: 0.1806 - categorical_accuracy: 0.9479 - val_loss: 0.3607 - val_categorical_accuracy: 0.9081\n",
      "Epoch 198/400\n",
      "175/175 [==============================] - 30s 169ms/step - loss: 0.1602 - categorical_accuracy: 0.9525 - val_loss: 0.3986 - val_categorical_accuracy: 0.9081\n",
      "Epoch 199/400\n",
      "175/175 [==============================] - 30s 170ms/step - loss: 0.1535 - categorical_accuracy: 0.9586 - val_loss: 0.3694 - val_categorical_accuracy: 0.8897\n",
      "Epoch 200/400\n",
      "175/175 [==============================] - 30s 169ms/step - loss: 0.1618 - categorical_accuracy: 0.9546 - val_loss: 0.3032 - val_categorical_accuracy: 0.8934\n",
      "Epoch 201/400\n",
      "175/175 [==============================] - 30s 169ms/step - loss: 0.1526 - categorical_accuracy: 0.9579 - val_loss: 0.3246 - val_categorical_accuracy: 0.9007\n",
      "Epoch 202/400\n",
      "175/175 [==============================] - 30s 170ms/step - loss: 0.1565 - categorical_accuracy: 0.9557 - val_loss: 0.4833 - val_categorical_accuracy: 0.8676\n",
      "Epoch 203/400\n",
      "175/175 [==============================] - 30s 169ms/step - loss: 0.1462 - categorical_accuracy: 0.9543 - val_loss: 0.4746 - val_categorical_accuracy: 0.8824\n",
      "Epoch 204/400\n",
      "175/175 [==============================] - 30s 169ms/step - loss: 0.1468 - categorical_accuracy: 0.9668 - val_loss: 0.5095 - val_categorical_accuracy: 0.8824\n",
      "Epoch 205/400\n",
      "175/175 [==============================] - 30s 170ms/step - loss: 0.1437 - categorical_accuracy: 0.9639 - val_loss: 0.5196 - val_categorical_accuracy: 0.8934\n",
      "Epoch 206/400\n",
      "175/175 [==============================] - 30s 169ms/step - loss: 0.1837 - categorical_accuracy: 0.9446 - val_loss: 0.3628 - val_categorical_accuracy: 0.9154\n",
      "Epoch 207/400\n",
      "175/175 [==============================] - 30s 169ms/step - loss: 0.1558 - categorical_accuracy: 0.9582 - val_loss: 0.5306 - val_categorical_accuracy: 0.8676\n",
      "Epoch 208/400\n",
      "175/175 [==============================] - 30s 169ms/step - loss: 0.1521 - categorical_accuracy: 0.9532 - val_loss: 0.3801 - val_categorical_accuracy: 0.9081\n",
      "Epoch 209/400\n",
      "175/175 [==============================] - 30s 169ms/step - loss: 0.1685 - categorical_accuracy: 0.9554 - val_loss: 0.3084 - val_categorical_accuracy: 0.9081\n",
      "Epoch 210/400\n",
      "175/175 [==============================] - 30s 169ms/step - loss: 0.1363 - categorical_accuracy: 0.9621 - val_loss: 0.4859 - val_categorical_accuracy: 0.9044\n",
      "Epoch 211/400\n",
      "175/175 [==============================] - 30s 169ms/step - loss: 0.1665 - categorical_accuracy: 0.9593 - val_loss: 0.4953 - val_categorical_accuracy: 0.8897\n",
      "Epoch 212/400\n",
      "175/175 [==============================] - 30s 169ms/step - loss: 0.1627 - categorical_accuracy: 0.9546 - val_loss: 0.6185 - val_categorical_accuracy: 0.8750\n",
      "Epoch 213/400\n",
      "175/175 [==============================] - 30s 169ms/step - loss: 0.1549 - categorical_accuracy: 0.9557 - val_loss: 0.5806 - val_categorical_accuracy: 0.8640\n",
      "Epoch 214/400\n",
      "175/175 [==============================] - 30s 170ms/step - loss: 0.1427 - categorical_accuracy: 0.9596 - val_loss: 0.3972 - val_categorical_accuracy: 0.8897\n",
      "Epoch 215/400\n",
      "175/175 [==============================] - 30s 169ms/step - loss: 0.1574 - categorical_accuracy: 0.9571 - val_loss: 0.2822 - val_categorical_accuracy: 0.8934\n",
      "Epoch 216/400\n",
      "175/175 [==============================] - 30s 169ms/step - loss: 0.1245 - categorical_accuracy: 0.9629 - val_loss: 0.3719 - val_categorical_accuracy: 0.9081\n",
      "Epoch 217/400\n",
      "175/175 [==============================] - 30s 170ms/step - loss: 0.1358 - categorical_accuracy: 0.9614 - val_loss: 0.3579 - val_categorical_accuracy: 0.9044\n",
      "Epoch 218/400\n",
      "175/175 [==============================] - 30s 169ms/step - loss: 0.1425 - categorical_accuracy: 0.9564 - val_loss: 0.4620 - val_categorical_accuracy: 0.8934\n",
      "Epoch 219/400\n",
      "175/175 [==============================] - 30s 170ms/step - loss: 0.1720 - categorical_accuracy: 0.9550 - val_loss: 0.3336 - val_categorical_accuracy: 0.9044\n",
      "Epoch 220/400\n",
      "175/175 [==============================] - 30s 169ms/step - loss: 0.1705 - categorical_accuracy: 0.9525 - val_loss: 0.4192 - val_categorical_accuracy: 0.9044\n",
      "Epoch 221/400\n",
      "175/175 [==============================] - 30s 170ms/step - loss: 0.1358 - categorical_accuracy: 0.9568 - val_loss: 0.3482 - val_categorical_accuracy: 0.9228\n",
      "Epoch 222/400\n",
      "175/175 [==============================] - 30s 169ms/step - loss: 0.1338 - categorical_accuracy: 0.9636 - val_loss: 0.5130 - val_categorical_accuracy: 0.8750\n",
      "Epoch 223/400\n",
      "175/175 [==============================] - 30s 170ms/step - loss: 0.1363 - categorical_accuracy: 0.9636 - val_loss: 0.4676 - val_categorical_accuracy: 0.9007\n",
      "Epoch 224/400\n",
      "175/175 [==============================] - 30s 170ms/step - loss: 0.1279 - categorical_accuracy: 0.9600 - val_loss: 0.3421 - val_categorical_accuracy: 0.8824\n",
      "Epoch 225/400\n",
      "175/175 [==============================] - 30s 170ms/step - loss: 0.1444 - categorical_accuracy: 0.9618 - val_loss: 0.2751 - val_categorical_accuracy: 0.9191\n",
      "Epoch 226/400\n",
      "175/175 [==============================] - 29s 169ms/step - loss: 0.1364 - categorical_accuracy: 0.9629 - val_loss: 0.3505 - val_categorical_accuracy: 0.9191\n",
      "Epoch 227/400\n",
      "175/175 [==============================] - 30s 169ms/step - loss: 0.1658 - categorical_accuracy: 0.9586 - val_loss: 0.2405 - val_categorical_accuracy: 0.9301\n",
      "Epoch 228/400\n",
      "175/175 [==============================] - 30s 169ms/step - loss: 0.1393 - categorical_accuracy: 0.9643 - val_loss: 0.3650 - val_categorical_accuracy: 0.9118\n",
      "Epoch 229/400\n",
      "175/175 [==============================] - 30s 169ms/step - loss: 0.1409 - categorical_accuracy: 0.9646 - val_loss: 0.3914 - val_categorical_accuracy: 0.8934\n",
      "Epoch 230/400\n",
      "175/175 [==============================] - 30s 170ms/step - loss: 0.1649 - categorical_accuracy: 0.9529 - val_loss: 0.3032 - val_categorical_accuracy: 0.9265\n",
      "Epoch 231/400\n",
      "175/175 [==============================] - 30s 169ms/step - loss: 0.1322 - categorical_accuracy: 0.9625 - val_loss: 0.4270 - val_categorical_accuracy: 0.9154\n",
      "Epoch 232/400\n",
      "175/175 [==============================] - 30s 169ms/step - loss: 0.1298 - categorical_accuracy: 0.9689 - val_loss: 0.3708 - val_categorical_accuracy: 0.8934\n",
      "Epoch 233/400\n",
      "175/175 [==============================] - 30s 169ms/step - loss: 0.1398 - categorical_accuracy: 0.9589 - val_loss: 0.3049 - val_categorical_accuracy: 0.9154\n",
      "Epoch 234/400\n",
      "175/175 [==============================] - 30s 169ms/step - loss: 0.1628 - categorical_accuracy: 0.9496 - val_loss: 0.3970 - val_categorical_accuracy: 0.9191\n",
      "Epoch 235/400\n",
      "175/175 [==============================] - 30s 170ms/step - loss: 0.1462 - categorical_accuracy: 0.9586 - val_loss: 0.4179 - val_categorical_accuracy: 0.8897\n",
      "Epoch 236/400\n",
      "175/175 [==============================] - 30s 169ms/step - loss: 0.1676 - categorical_accuracy: 0.9586 - val_loss: 0.3094 - val_categorical_accuracy: 0.9118\n",
      "Epoch 237/400\n",
      "175/175 [==============================] - 30s 169ms/step - loss: 0.1042 - categorical_accuracy: 0.9721 - val_loss: 0.4576 - val_categorical_accuracy: 0.9081\n",
      "Epoch 238/400\n",
      "175/175 [==============================] - 30s 169ms/step - loss: 0.1281 - categorical_accuracy: 0.9643 - val_loss: 0.5461 - val_categorical_accuracy: 0.9044\n",
      "Epoch 239/400\n",
      "175/175 [==============================] - 30s 170ms/step - loss: 0.1398 - categorical_accuracy: 0.9575 - val_loss: 0.4260 - val_categorical_accuracy: 0.9118\n",
      "Epoch 240/400\n",
      "175/175 [==============================] - 30s 169ms/step - loss: 0.1377 - categorical_accuracy: 0.9636 - val_loss: 0.4033 - val_categorical_accuracy: 0.9265\n",
      "Epoch 241/400\n",
      "175/175 [==============================] - 30s 170ms/step - loss: 0.1417 - categorical_accuracy: 0.9596 - val_loss: 0.3632 - val_categorical_accuracy: 0.9007\n",
      "Epoch 242/400\n",
      "175/175 [==============================] - 30s 169ms/step - loss: 0.1239 - categorical_accuracy: 0.9675 - val_loss: 0.2954 - val_categorical_accuracy: 0.8971\n",
      "Epoch 243/400\n",
      "175/175 [==============================] - 30s 169ms/step - loss: 0.1213 - categorical_accuracy: 0.9675 - val_loss: 0.4669 - val_categorical_accuracy: 0.8750\n",
      "Epoch 244/400\n",
      "175/175 [==============================] - 30s 169ms/step - loss: 0.1296 - categorical_accuracy: 0.9650 - val_loss: 0.2770 - val_categorical_accuracy: 0.9154\n",
      "Epoch 245/400\n",
      "175/175 [==============================] - 30s 170ms/step - loss: 0.1124 - categorical_accuracy: 0.9704 - val_loss: 0.3828 - val_categorical_accuracy: 0.8787\n",
      "Epoch 246/400\n",
      "175/175 [==============================] - 30s 169ms/step - loss: 0.1462 - categorical_accuracy: 0.9589 - val_loss: 0.3675 - val_categorical_accuracy: 0.9118\n",
      "Epoch 247/400\n",
      "175/175 [==============================] - 30s 170ms/step - loss: 0.1321 - categorical_accuracy: 0.9646 - val_loss: 0.3108 - val_categorical_accuracy: 0.9154\n",
      "Epoch 248/400\n",
      "175/175 [==============================] - 30s 169ms/step - loss: 0.1181 - categorical_accuracy: 0.9693 - val_loss: 0.5223 - val_categorical_accuracy: 0.8934\n",
      "Epoch 249/400\n",
      "175/175 [==============================] - 30s 169ms/step - loss: 0.1048 - categorical_accuracy: 0.9750 - val_loss: 0.5196 - val_categorical_accuracy: 0.8787\n",
      "Epoch 250/400\n",
      "175/175 [==============================] - 30s 169ms/step - loss: 0.1054 - categorical_accuracy: 0.9739 - val_loss: 0.3425 - val_categorical_accuracy: 0.9191\n",
      "Epoch 251/400\n",
      "175/175 [==============================] - 30s 169ms/step - loss: 0.1090 - categorical_accuracy: 0.9689 - val_loss: 0.5758 - val_categorical_accuracy: 0.9118\n",
      "Epoch 252/400\n",
      "175/175 [==============================] - 30s 169ms/step - loss: 0.1570 - categorical_accuracy: 0.9554 - val_loss: 0.4286 - val_categorical_accuracy: 0.8860\n",
      "Epoch 253/400\n",
      "175/175 [==============================] - 30s 169ms/step - loss: 0.1265 - categorical_accuracy: 0.9682 - val_loss: 0.3297 - val_categorical_accuracy: 0.9118\n",
      "Epoch 254/400\n",
      "175/175 [==============================] - 30s 169ms/step - loss: 0.1081 - categorical_accuracy: 0.9700 - val_loss: 0.6035 - val_categorical_accuracy: 0.9081\n",
      "Epoch 255/400\n",
      "175/175 [==============================] - 30s 169ms/step - loss: 0.1203 - categorical_accuracy: 0.9696 - val_loss: 0.4608 - val_categorical_accuracy: 0.9228\n",
      "Epoch 256/400\n",
      "175/175 [==============================] - 30s 169ms/step - loss: 0.1425 - categorical_accuracy: 0.9657 - val_loss: 0.4305 - val_categorical_accuracy: 0.8750\n",
      "Epoch 257/400\n",
      "175/175 [==============================] - 30s 169ms/step - loss: 0.1411 - categorical_accuracy: 0.9604 - val_loss: 0.4184 - val_categorical_accuracy: 0.9007\n",
      "Epoch 258/400\n",
      "175/175 [==============================] - 30s 169ms/step - loss: 0.0916 - categorical_accuracy: 0.9754 - val_loss: 0.4331 - val_categorical_accuracy: 0.9118\n",
      "Epoch 259/400\n",
      "175/175 [==============================] - 30s 169ms/step - loss: 0.1199 - categorical_accuracy: 0.9646 - val_loss: 0.3776 - val_categorical_accuracy: 0.9118\n",
      "Epoch 260/400\n",
      "175/175 [==============================] - 30s 170ms/step - loss: 0.1227 - categorical_accuracy: 0.9657 - val_loss: 0.4855 - val_categorical_accuracy: 0.9154\n",
      "Epoch 261/400\n",
      "175/175 [==============================] - 30s 169ms/step - loss: 0.1075 - categorical_accuracy: 0.9729 - val_loss: 0.5287 - val_categorical_accuracy: 0.9228\n",
      "Epoch 262/400\n",
      "175/175 [==============================] - 30s 169ms/step - loss: 0.1431 - categorical_accuracy: 0.9604 - val_loss: 0.2990 - val_categorical_accuracy: 0.9118\n",
      "Epoch 263/400\n",
      "175/175 [==============================] - 30s 169ms/step - loss: 0.1102 - categorical_accuracy: 0.9711 - val_loss: 0.8033 - val_categorical_accuracy: 0.8897\n",
      "Epoch 264/400\n",
      "175/175 [==============================] - 30s 169ms/step - loss: 0.1402 - categorical_accuracy: 0.9561 - val_loss: 0.5257 - val_categorical_accuracy: 0.9007\n",
      "Epoch 265/400\n",
      "175/175 [==============================] - 30s 169ms/step - loss: 0.1109 - categorical_accuracy: 0.9707 - val_loss: 0.3690 - val_categorical_accuracy: 0.8971\n",
      "Epoch 266/400\n",
      "175/175 [==============================] - 30s 169ms/step - loss: 0.1117 - categorical_accuracy: 0.9711 - val_loss: 0.4250 - val_categorical_accuracy: 0.8971\n",
      "Epoch 267/400\n",
      "175/175 [==============================] - 30s 169ms/step - loss: 0.1170 - categorical_accuracy: 0.9693 - val_loss: 0.5013 - val_categorical_accuracy: 0.9228\n",
      "Epoch 268/400\n",
      "175/175 [==============================] - 30s 169ms/step - loss: 0.1141 - categorical_accuracy: 0.9754 - val_loss: 0.4874 - val_categorical_accuracy: 0.8860\n",
      "Epoch 269/400\n",
      "175/175 [==============================] - 30s 169ms/step - loss: 0.1450 - categorical_accuracy: 0.9636 - val_loss: 0.4745 - val_categorical_accuracy: 0.8860\n",
      "Epoch 270/400\n",
      "175/175 [==============================] - 30s 169ms/step - loss: 0.1229 - categorical_accuracy: 0.9675 - val_loss: 0.3663 - val_categorical_accuracy: 0.9081\n",
      "Epoch 271/400\n",
      "175/175 [==============================] - 30s 170ms/step - loss: 0.1073 - categorical_accuracy: 0.9736 - val_loss: 0.4277 - val_categorical_accuracy: 0.9154\n",
      "Epoch 272/400\n",
      "175/175 [==============================] - 30s 169ms/step - loss: 0.1008 - categorical_accuracy: 0.9757 - val_loss: 0.3739 - val_categorical_accuracy: 0.9154\n",
      "Epoch 273/400\n",
      "175/175 [==============================] - 30s 170ms/step - loss: 0.1082 - categorical_accuracy: 0.9682 - val_loss: 0.4842 - val_categorical_accuracy: 0.9007\n",
      "Epoch 274/400\n",
      "175/175 [==============================] - 29s 168ms/step - loss: 0.0978 - categorical_accuracy: 0.9757 - val_loss: 0.4741 - val_categorical_accuracy: 0.9007\n",
      "Epoch 275/400\n",
      "175/175 [==============================] - 30s 169ms/step - loss: 0.1023 - categorical_accuracy: 0.9746 - val_loss: 0.4321 - val_categorical_accuracy: 0.9081\n",
      "Epoch 276/400\n",
      "175/175 [==============================] - 30s 170ms/step - loss: 0.1126 - categorical_accuracy: 0.9704 - val_loss: 0.4883 - val_categorical_accuracy: 0.9154\n",
      "Epoch 277/400\n",
      "175/175 [==============================] - 30s 169ms/step - loss: 0.1422 - categorical_accuracy: 0.9618 - val_loss: 0.4588 - val_categorical_accuracy: 0.9044\n",
      "Epoch 278/400\n",
      "175/175 [==============================] - 30s 169ms/step - loss: 0.1233 - categorical_accuracy: 0.9664 - val_loss: 0.3702 - val_categorical_accuracy: 0.8824\n",
      "Epoch 279/400\n",
      "175/175 [==============================] - 30s 169ms/step - loss: 0.1002 - categorical_accuracy: 0.9743 - val_loss: 0.4948 - val_categorical_accuracy: 0.9081\n",
      "Epoch 280/400\n",
      "175/175 [==============================] - 30s 169ms/step - loss: 0.1118 - categorical_accuracy: 0.9711 - val_loss: 0.3574 - val_categorical_accuracy: 0.9118\n",
      "Epoch 281/400\n",
      "175/175 [==============================] - 30s 169ms/step - loss: 0.1015 - categorical_accuracy: 0.9739 - val_loss: 0.5279 - val_categorical_accuracy: 0.9081\n",
      "Epoch 282/400\n",
      "175/175 [==============================] - 30s 170ms/step - loss: 0.0989 - categorical_accuracy: 0.9764 - val_loss: 0.3041 - val_categorical_accuracy: 0.9412\n",
      "Epoch 283/400\n",
      "175/175 [==============================] - 30s 169ms/step - loss: 0.1014 - categorical_accuracy: 0.9736 - val_loss: 0.3746 - val_categorical_accuracy: 0.9228\n",
      "Epoch 284/400\n",
      "175/175 [==============================] - 30s 169ms/step - loss: 0.1219 - categorical_accuracy: 0.9707 - val_loss: 0.4045 - val_categorical_accuracy: 0.8787\n",
      "Epoch 285/400\n",
      "175/175 [==============================] - 30s 169ms/step - loss: 0.1213 - categorical_accuracy: 0.9650 - val_loss: 0.4282 - val_categorical_accuracy: 0.8897\n",
      "Epoch 286/400\n",
      "175/175 [==============================] - 30s 169ms/step - loss: 0.1181 - categorical_accuracy: 0.9682 - val_loss: 0.4478 - val_categorical_accuracy: 0.9081\n",
      "Epoch 287/400\n",
      "175/175 [==============================] - 30s 169ms/step - loss: 0.1169 - categorical_accuracy: 0.9711 - val_loss: 0.4813 - val_categorical_accuracy: 0.8971\n",
      "Epoch 288/400\n",
      "175/175 [==============================] - 30s 169ms/step - loss: 0.1189 - categorical_accuracy: 0.9732 - val_loss: 0.3257 - val_categorical_accuracy: 0.9228\n",
      "Epoch 289/400\n",
      "175/175 [==============================] - 30s 170ms/step - loss: 0.0911 - categorical_accuracy: 0.9779 - val_loss: 0.3357 - val_categorical_accuracy: 0.9338\n",
      "Epoch 290/400\n",
      "175/175 [==============================] - 30s 169ms/step - loss: 0.1057 - categorical_accuracy: 0.9736 - val_loss: 0.3463 - val_categorical_accuracy: 0.9191\n",
      "Epoch 291/400\n",
      "175/175 [==============================] - 30s 169ms/step - loss: 0.1137 - categorical_accuracy: 0.9707 - val_loss: 0.3891 - val_categorical_accuracy: 0.9154\n",
      "Epoch 292/400\n",
      "175/175 [==============================] - 30s 169ms/step - loss: 0.1094 - categorical_accuracy: 0.9682 - val_loss: 0.3476 - val_categorical_accuracy: 0.9044\n",
      "Epoch 293/400\n",
      "175/175 [==============================] - 30s 169ms/step - loss: 0.1191 - categorical_accuracy: 0.9675 - val_loss: 0.4025 - val_categorical_accuracy: 0.8971\n",
      "Epoch 294/400\n",
      "175/175 [==============================] - 30s 169ms/step - loss: 0.0826 - categorical_accuracy: 0.9811 - val_loss: 0.2901 - val_categorical_accuracy: 0.9301\n",
      "Epoch 295/400\n",
      "175/175 [==============================] - 30s 169ms/step - loss: 0.0885 - categorical_accuracy: 0.9761 - val_loss: 0.3908 - val_categorical_accuracy: 0.9338\n",
      "Epoch 296/400\n",
      "175/175 [==============================] - 29s 169ms/step - loss: 0.0929 - categorical_accuracy: 0.9743 - val_loss: 0.4006 - val_categorical_accuracy: 0.9044\n",
      "Epoch 297/400\n",
      "175/175 [==============================] - 30s 170ms/step - loss: 0.1021 - categorical_accuracy: 0.9729 - val_loss: 0.3547 - val_categorical_accuracy: 0.9081\n",
      "Epoch 298/400\n",
      "175/175 [==============================] - 30s 169ms/step - loss: 0.1044 - categorical_accuracy: 0.9736 - val_loss: 0.6081 - val_categorical_accuracy: 0.8897\n",
      "Epoch 299/400\n",
      "175/175 [==============================] - 30s 169ms/step - loss: 0.0914 - categorical_accuracy: 0.9743 - val_loss: 0.3552 - val_categorical_accuracy: 0.9118\n",
      "Epoch 300/400\n",
      "175/175 [==============================] - 30s 169ms/step - loss: 0.0989 - categorical_accuracy: 0.9739 - val_loss: 0.5882 - val_categorical_accuracy: 0.8824\n",
      "Epoch 301/400\n",
      "175/175 [==============================] - 30s 169ms/step - loss: 0.1337 - categorical_accuracy: 0.9639 - val_loss: 0.3434 - val_categorical_accuracy: 0.8860\n",
      "Epoch 302/400\n",
      "175/175 [==============================] - 30s 169ms/step - loss: 0.0932 - categorical_accuracy: 0.9800 - val_loss: 0.4306 - val_categorical_accuracy: 0.8897\n",
      "Epoch 303/400\n",
      "175/175 [==============================] - 30s 169ms/step - loss: 0.1162 - categorical_accuracy: 0.9682 - val_loss: 0.4754 - val_categorical_accuracy: 0.9007\n",
      "Epoch 304/400\n",
      "175/175 [==============================] - 29s 168ms/step - loss: 0.1061 - categorical_accuracy: 0.9736 - val_loss: 0.3402 - val_categorical_accuracy: 0.9191\n",
      "Epoch 305/400\n",
      "175/175 [==============================] - 30s 169ms/step - loss: 0.0868 - categorical_accuracy: 0.9789 - val_loss: 0.4863 - val_categorical_accuracy: 0.9118\n",
      "Epoch 306/400\n",
      "175/175 [==============================] - 30s 169ms/step - loss: 0.1026 - categorical_accuracy: 0.9736 - val_loss: 0.3506 - val_categorical_accuracy: 0.9118\n",
      "Epoch 307/400\n",
      "175/175 [==============================] - 30s 169ms/step - loss: 0.1077 - categorical_accuracy: 0.9764 - val_loss: 0.2636 - val_categorical_accuracy: 0.9228\n",
      "Epoch 308/400\n",
      "175/175 [==============================] - 30s 170ms/step - loss: 0.1010 - categorical_accuracy: 0.9718 - val_loss: 0.2972 - val_categorical_accuracy: 0.9154\n",
      "Epoch 309/400\n",
      "175/175 [==============================] - 30s 169ms/step - loss: 0.1145 - categorical_accuracy: 0.9700 - val_loss: 0.2451 - val_categorical_accuracy: 0.9265\n",
      "Epoch 310/400\n",
      "175/175 [==============================] - 30s 169ms/step - loss: 0.0678 - categorical_accuracy: 0.9854 - val_loss: 0.4516 - val_categorical_accuracy: 0.8971\n",
      "Epoch 311/400\n",
      "175/175 [==============================] - 30s 170ms/step - loss: 0.1471 - categorical_accuracy: 0.9639 - val_loss: 0.4309 - val_categorical_accuracy: 0.9007\n",
      "Epoch 312/400\n",
      "175/175 [==============================] - 30s 169ms/step - loss: 0.0817 - categorical_accuracy: 0.9789 - val_loss: 0.4706 - val_categorical_accuracy: 0.8750\n",
      "Epoch 313/400\n",
      "175/175 [==============================] - 30s 170ms/step - loss: 0.0919 - categorical_accuracy: 0.9786 - val_loss: 0.4567 - val_categorical_accuracy: 0.9044\n",
      "Epoch 314/400\n",
      "175/175 [==============================] - 30s 169ms/step - loss: 0.1128 - categorical_accuracy: 0.9682 - val_loss: 0.6507 - val_categorical_accuracy: 0.8971\n",
      "Epoch 315/400\n",
      "175/175 [==============================] - 30s 169ms/step - loss: 0.1046 - categorical_accuracy: 0.9743 - val_loss: 0.4385 - val_categorical_accuracy: 0.9118\n",
      "Epoch 316/400\n",
      "175/175 [==============================] - 30s 170ms/step - loss: 0.1180 - categorical_accuracy: 0.9739 - val_loss: 0.4421 - val_categorical_accuracy: 0.8897\n",
      "Epoch 317/400\n",
      "175/175 [==============================] - 30s 169ms/step - loss: 0.0948 - categorical_accuracy: 0.9746 - val_loss: 0.3086 - val_categorical_accuracy: 0.9044\n",
      "Epoch 318/400\n",
      "175/175 [==============================] - 30s 169ms/step - loss: 0.0948 - categorical_accuracy: 0.9789 - val_loss: 0.3836 - val_categorical_accuracy: 0.9007\n",
      "Epoch 319/400\n",
      "175/175 [==============================] - 30s 169ms/step - loss: 0.0799 - categorical_accuracy: 0.9800 - val_loss: 0.4024 - val_categorical_accuracy: 0.9118\n",
      "Epoch 320/400\n",
      "175/175 [==============================] - 30s 170ms/step - loss: 0.0959 - categorical_accuracy: 0.9764 - val_loss: 0.4221 - val_categorical_accuracy: 0.9081\n",
      "Epoch 321/400\n",
      "175/175 [==============================] - 30s 170ms/step - loss: 0.0992 - categorical_accuracy: 0.9746 - val_loss: 0.2965 - val_categorical_accuracy: 0.9228\n",
      "Epoch 322/400\n",
      "175/175 [==============================] - 30s 169ms/step - loss: 0.0735 - categorical_accuracy: 0.9814 - val_loss: 0.5919 - val_categorical_accuracy: 0.9007\n",
      "Epoch 323/400\n",
      "175/175 [==============================] - 30s 169ms/step - loss: 0.1076 - categorical_accuracy: 0.9696 - val_loss: 0.3358 - val_categorical_accuracy: 0.9301\n",
      "Epoch 324/400\n",
      "175/175 [==============================] - 30s 169ms/step - loss: 0.1020 - categorical_accuracy: 0.9750 - val_loss: 0.3441 - val_categorical_accuracy: 0.9265\n",
      "Epoch 325/400\n",
      "175/175 [==============================] - 30s 170ms/step - loss: 0.0963 - categorical_accuracy: 0.9718 - val_loss: 0.4816 - val_categorical_accuracy: 0.9007\n",
      "Epoch 326/400\n",
      "175/175 [==============================] - 30s 170ms/step - loss: 0.1102 - categorical_accuracy: 0.9711 - val_loss: 0.5708 - val_categorical_accuracy: 0.9044\n",
      "Epoch 327/400\n",
      "175/175 [==============================] - 30s 169ms/step - loss: 0.1008 - categorical_accuracy: 0.9764 - val_loss: 0.4122 - val_categorical_accuracy: 0.9228\n",
      "Epoch 328/400\n",
      "175/175 [==============================] - 30s 170ms/step - loss: 0.0740 - categorical_accuracy: 0.9807 - val_loss: 0.5347 - val_categorical_accuracy: 0.8971\n",
      "Epoch 329/400\n",
      "175/175 [==============================] - 30s 170ms/step - loss: 0.1088 - categorical_accuracy: 0.9732 - val_loss: 0.5076 - val_categorical_accuracy: 0.9007\n",
      "Epoch 330/400\n",
      "175/175 [==============================] - 30s 169ms/step - loss: 0.1076 - categorical_accuracy: 0.9768 - val_loss: 0.4024 - val_categorical_accuracy: 0.9118\n",
      "Epoch 331/400\n",
      "175/175 [==============================] - 30s 170ms/step - loss: 0.0670 - categorical_accuracy: 0.9875 - val_loss: 0.4166 - val_categorical_accuracy: 0.9338\n",
      "Epoch 332/400\n",
      "175/175 [==============================] - 30s 170ms/step - loss: 0.0705 - categorical_accuracy: 0.9829 - val_loss: 0.4795 - val_categorical_accuracy: 0.9228\n",
      "Epoch 333/400\n",
      "175/175 [==============================] - 30s 169ms/step - loss: 0.0918 - categorical_accuracy: 0.9768 - val_loss: 0.4446 - val_categorical_accuracy: 0.9007\n",
      "Epoch 334/400\n",
      "175/175 [==============================] - 30s 169ms/step - loss: 0.0844 - categorical_accuracy: 0.9821 - val_loss: 0.3688 - val_categorical_accuracy: 0.9228\n",
      "Epoch 335/400\n",
      "175/175 [==============================] - 30s 170ms/step - loss: 0.1134 - categorical_accuracy: 0.9707 - val_loss: 0.4183 - val_categorical_accuracy: 0.9081\n",
      "Epoch 336/400\n",
      "175/175 [==============================] - 30s 170ms/step - loss: 0.0919 - categorical_accuracy: 0.9779 - val_loss: 0.3878 - val_categorical_accuracy: 0.9265\n",
      "Epoch 337/400\n",
      "175/175 [==============================] - 30s 169ms/step - loss: 0.0889 - categorical_accuracy: 0.9796 - val_loss: 0.3268 - val_categorical_accuracy: 0.9412\n",
      "Epoch 338/400\n",
      "175/175 [==============================] - 30s 169ms/step - loss: 0.0683 - categorical_accuracy: 0.9843 - val_loss: 0.3833 - val_categorical_accuracy: 0.9301\n",
      "Epoch 339/400\n",
      "175/175 [==============================] - 30s 169ms/step - loss: 0.0946 - categorical_accuracy: 0.9761 - val_loss: 0.3120 - val_categorical_accuracy: 0.9412\n",
      "Epoch 340/400\n",
      "175/175 [==============================] - 30s 169ms/step - loss: 0.0643 - categorical_accuracy: 0.9857 - val_loss: 0.3599 - val_categorical_accuracy: 0.9375\n",
      "Epoch 341/400\n",
      "175/175 [==============================] - 30s 170ms/step - loss: 0.0971 - categorical_accuracy: 0.9786 - val_loss: 0.3687 - val_categorical_accuracy: 0.9154\n",
      "Epoch 342/400\n",
      "175/175 [==============================] - 30s 170ms/step - loss: 0.0826 - categorical_accuracy: 0.9811 - val_loss: 0.7817 - val_categorical_accuracy: 0.8603\n",
      "Epoch 343/400\n",
      "175/175 [==============================] - 30s 169ms/step - loss: 0.1050 - categorical_accuracy: 0.9757 - val_loss: 0.4153 - val_categorical_accuracy: 0.8971\n",
      "Epoch 344/400\n",
      "175/175 [==============================] - 30s 170ms/step - loss: 0.1008 - categorical_accuracy: 0.9746 - val_loss: 0.4716 - val_categorical_accuracy: 0.9007\n",
      "Epoch 345/400\n",
      "175/175 [==============================] - 30s 170ms/step - loss: 0.0996 - categorical_accuracy: 0.9750 - val_loss: 0.4232 - val_categorical_accuracy: 0.9191\n",
      "Epoch 346/400\n",
      "175/175 [==============================] - 30s 170ms/step - loss: 0.0900 - categorical_accuracy: 0.9789 - val_loss: 0.4040 - val_categorical_accuracy: 0.9154\n",
      "Epoch 347/400\n",
      "175/175 [==============================] - 30s 170ms/step - loss: 0.0770 - categorical_accuracy: 0.9793 - val_loss: 0.3543 - val_categorical_accuracy: 0.9265\n",
      "Epoch 348/400\n",
      "175/175 [==============================] - 30s 170ms/step - loss: 0.0850 - categorical_accuracy: 0.9800 - val_loss: 0.5543 - val_categorical_accuracy: 0.9228\n",
      "Epoch 349/400\n",
      "175/175 [==============================] - 30s 169ms/step - loss: 0.1070 - categorical_accuracy: 0.9704 - val_loss: 0.6659 - val_categorical_accuracy: 0.8824\n",
      "Epoch 350/400\n",
      "175/175 [==============================] - 30s 170ms/step - loss: 0.1371 - categorical_accuracy: 0.9639 - val_loss: 0.3833 - val_categorical_accuracy: 0.8897\n",
      "Epoch 351/400\n",
      "175/175 [==============================] - 30s 170ms/step - loss: 0.0789 - categorical_accuracy: 0.9804 - val_loss: 0.4284 - val_categorical_accuracy: 0.9154\n",
      "Epoch 352/400\n",
      "175/175 [==============================] - 30s 169ms/step - loss: 0.0908 - categorical_accuracy: 0.9764 - val_loss: 0.2555 - val_categorical_accuracy: 0.9338\n",
      "Epoch 353/400\n",
      "175/175 [==============================] - 30s 170ms/step - loss: 0.0997 - categorical_accuracy: 0.9729 - val_loss: 0.3575 - val_categorical_accuracy: 0.9301\n",
      "Epoch 354/400\n",
      "175/175 [==============================] - 30s 169ms/step - loss: 0.0933 - categorical_accuracy: 0.9807 - val_loss: 0.4703 - val_categorical_accuracy: 0.9154\n",
      "Epoch 355/400\n",
      "175/175 [==============================] - 30s 170ms/step - loss: 0.0757 - categorical_accuracy: 0.9814 - val_loss: 0.3345 - val_categorical_accuracy: 0.9301\n",
      "Epoch 356/400\n",
      "175/175 [==============================] - 30s 170ms/step - loss: 0.0841 - categorical_accuracy: 0.9800 - val_loss: 0.4898 - val_categorical_accuracy: 0.9154\n",
      "Epoch 357/400\n",
      "175/175 [==============================] - 30s 169ms/step - loss: 0.1372 - categorical_accuracy: 0.9711 - val_loss: 0.3908 - val_categorical_accuracy: 0.9265\n",
      "Epoch 358/400\n",
      "175/175 [==============================] - 30s 169ms/step - loss: 0.0790 - categorical_accuracy: 0.9818 - val_loss: 0.4470 - val_categorical_accuracy: 0.9375\n",
      "Epoch 359/400\n",
      "175/175 [==============================] - 30s 170ms/step - loss: 0.0658 - categorical_accuracy: 0.9825 - val_loss: 0.3778 - val_categorical_accuracy: 0.9375\n",
      "Epoch 360/400\n",
      "175/175 [==============================] - 30s 170ms/step - loss: 0.1072 - categorical_accuracy: 0.9725 - val_loss: 0.4047 - val_categorical_accuracy: 0.9044\n",
      "Epoch 361/400\n",
      "175/175 [==============================] - 30s 170ms/step - loss: 0.0717 - categorical_accuracy: 0.9825 - val_loss: 0.2390 - val_categorical_accuracy: 0.9522\n",
      "Epoch 362/400\n",
      "175/175 [==============================] - 30s 170ms/step - loss: 0.0937 - categorical_accuracy: 0.9750 - val_loss: 0.3372 - val_categorical_accuracy: 0.9485\n",
      "Epoch 363/400\n",
      "175/175 [==============================] - 30s 170ms/step - loss: 0.0621 - categorical_accuracy: 0.9868 - val_loss: 0.3835 - val_categorical_accuracy: 0.9449\n",
      "Epoch 364/400\n",
      "175/175 [==============================] - 30s 170ms/step - loss: 0.0658 - categorical_accuracy: 0.9836 - val_loss: 0.6269 - val_categorical_accuracy: 0.9118\n",
      "Epoch 365/400\n",
      "175/175 [==============================] - 30s 170ms/step - loss: 0.0819 - categorical_accuracy: 0.9821 - val_loss: 0.3620 - val_categorical_accuracy: 0.9412\n",
      "Epoch 366/400\n",
      "175/175 [==============================] - 30s 170ms/step - loss: 0.0806 - categorical_accuracy: 0.9761 - val_loss: 0.3224 - val_categorical_accuracy: 0.9191\n",
      "Epoch 367/400\n",
      "175/175 [==============================] - 30s 170ms/step - loss: 0.0605 - categorical_accuracy: 0.9829 - val_loss: 0.5490 - val_categorical_accuracy: 0.9228\n",
      "Epoch 368/400\n",
      "175/175 [==============================] - 30s 169ms/step - loss: 0.1042 - categorical_accuracy: 0.9721 - val_loss: 0.4138 - val_categorical_accuracy: 0.9265\n",
      "Epoch 369/400\n",
      "175/175 [==============================] - 30s 170ms/step - loss: 0.0991 - categorical_accuracy: 0.9711 - val_loss: 0.5323 - val_categorical_accuracy: 0.9228\n",
      "Epoch 370/400\n",
      "175/175 [==============================] - 30s 170ms/step - loss: 0.0845 - categorical_accuracy: 0.9779 - val_loss: 0.4720 - val_categorical_accuracy: 0.9228\n",
      "Epoch 371/400\n",
      "175/175 [==============================] - 30s 170ms/step - loss: 0.0887 - categorical_accuracy: 0.9761 - val_loss: 0.4718 - val_categorical_accuracy: 0.9154\n",
      "Epoch 372/400\n",
      "175/175 [==============================] - 30s 170ms/step - loss: 0.0619 - categorical_accuracy: 0.9861 - val_loss: 0.4096 - val_categorical_accuracy: 0.9228\n",
      "Epoch 373/400\n",
      "175/175 [==============================] - 30s 170ms/step - loss: 0.0629 - categorical_accuracy: 0.9861 - val_loss: 0.4846 - val_categorical_accuracy: 0.9301\n",
      "Epoch 374/400\n",
      "175/175 [==============================] - 30s 170ms/step - loss: 0.0920 - categorical_accuracy: 0.9782 - val_loss: 0.4680 - val_categorical_accuracy: 0.9191\n",
      "Epoch 375/400\n",
      "175/175 [==============================] - 30s 169ms/step - loss: 0.0701 - categorical_accuracy: 0.9811 - val_loss: 0.4660 - val_categorical_accuracy: 0.8971\n",
      "Epoch 376/400\n",
      "175/175 [==============================] - 30s 170ms/step - loss: 0.1091 - categorical_accuracy: 0.9707 - val_loss: 0.4156 - val_categorical_accuracy: 0.9412\n",
      "Epoch 377/400\n",
      "175/175 [==============================] - 30s 170ms/step - loss: 0.0971 - categorical_accuracy: 0.9746 - val_loss: 0.4224 - val_categorical_accuracy: 0.9118\n",
      "Epoch 378/400\n",
      "175/175 [==============================] - 30s 170ms/step - loss: 0.0729 - categorical_accuracy: 0.9825 - val_loss: 0.5087 - val_categorical_accuracy: 0.9044\n",
      "Epoch 379/400\n",
      "175/175 [==============================] - 30s 170ms/step - loss: 0.0891 - categorical_accuracy: 0.9789 - val_loss: 0.5869 - val_categorical_accuracy: 0.9191\n",
      "Epoch 380/400\n",
      "175/175 [==============================] - 30s 170ms/step - loss: 0.0629 - categorical_accuracy: 0.9843 - val_loss: 0.5477 - val_categorical_accuracy: 0.9228\n",
      "Epoch 381/400\n",
      "175/175 [==============================] - 30s 169ms/step - loss: 0.0844 - categorical_accuracy: 0.9800 - val_loss: 0.3762 - val_categorical_accuracy: 0.9265\n",
      "Epoch 382/400\n",
      "175/175 [==============================] - 30s 169ms/step - loss: 0.0778 - categorical_accuracy: 0.9793 - val_loss: 0.3412 - val_categorical_accuracy: 0.9191\n",
      "Epoch 383/400\n",
      "175/175 [==============================] - 30s 169ms/step - loss: 0.0967 - categorical_accuracy: 0.9768 - val_loss: 0.2261 - val_categorical_accuracy: 0.9265\n",
      "Epoch 384/400\n",
      "175/175 [==============================] - 30s 169ms/step - loss: 0.0620 - categorical_accuracy: 0.9868 - val_loss: 0.3486 - val_categorical_accuracy: 0.9007\n",
      "Epoch 385/400\n",
      "175/175 [==============================] - 30s 169ms/step - loss: 0.0571 - categorical_accuracy: 0.9875 - val_loss: 0.3796 - val_categorical_accuracy: 0.9118\n",
      "Epoch 386/400\n",
      "175/175 [==============================] - 30s 169ms/step - loss: 0.0515 - categorical_accuracy: 0.9879 - val_loss: 0.4229 - val_categorical_accuracy: 0.9265\n",
      "Epoch 387/400\n",
      "175/175 [==============================] - 30s 169ms/step - loss: 0.0736 - categorical_accuracy: 0.9825 - val_loss: 0.3112 - val_categorical_accuracy: 0.9265\n",
      "Epoch 388/400\n",
      "175/175 [==============================] - 29s 168ms/step - loss: 0.0833 - categorical_accuracy: 0.9800 - val_loss: 0.3761 - val_categorical_accuracy: 0.9191\n",
      "Epoch 389/400\n",
      "175/175 [==============================] - 30s 169ms/step - loss: 0.0562 - categorical_accuracy: 0.9861 - val_loss: 0.4691 - val_categorical_accuracy: 0.9338\n",
      "Epoch 390/400\n",
      "175/175 [==============================] - 30s 169ms/step - loss: 0.0725 - categorical_accuracy: 0.9796 - val_loss: 0.3624 - val_categorical_accuracy: 0.9449\n",
      "Epoch 391/400\n",
      "175/175 [==============================] - 30s 169ms/step - loss: 0.1012 - categorical_accuracy: 0.9761 - val_loss: 0.4001 - val_categorical_accuracy: 0.8934\n",
      "Epoch 392/400\n",
      "175/175 [==============================] - 30s 169ms/step - loss: 0.1158 - categorical_accuracy: 0.9729 - val_loss: 0.2465 - val_categorical_accuracy: 0.9265\n",
      "Epoch 393/400\n",
      "175/175 [==============================] - 30s 169ms/step - loss: 0.0922 - categorical_accuracy: 0.9789 - val_loss: 0.4945 - val_categorical_accuracy: 0.9007\n",
      "Epoch 394/400\n",
      "175/175 [==============================] - 30s 169ms/step - loss: 0.0863 - categorical_accuracy: 0.9789 - val_loss: 0.2792 - val_categorical_accuracy: 0.9375\n",
      "Epoch 395/400\n",
      "175/175 [==============================] - 29s 169ms/step - loss: 0.0660 - categorical_accuracy: 0.9868 - val_loss: 0.6079 - val_categorical_accuracy: 0.8934\n",
      "Epoch 396/400\n",
      "175/175 [==============================] - 29s 168ms/step - loss: 0.0634 - categorical_accuracy: 0.9857 - val_loss: 0.5339 - val_categorical_accuracy: 0.9265\n",
      "Epoch 397/400\n",
      "175/175 [==============================] - 29s 168ms/step - loss: 0.0799 - categorical_accuracy: 0.9771 - val_loss: 0.3173 - val_categorical_accuracy: 0.9301\n",
      "Epoch 398/400\n",
      "175/175 [==============================] - 29s 169ms/step - loss: 0.1166 - categorical_accuracy: 0.9750 - val_loss: 0.3833 - val_categorical_accuracy: 0.9007\n",
      "Epoch 399/400\n",
      "175/175 [==============================] - 30s 169ms/step - loss: 0.0653 - categorical_accuracy: 0.9829 - val_loss: 0.2611 - val_categorical_accuracy: 0.9301\n",
      "Epoch 400/400\n",
      "175/175 [==============================] - 29s 168ms/step - loss: 0.0681 - categorical_accuracy: 0.9821 - val_loss: 0.5166 - val_categorical_accuracy: 0.9154\n"
     ]
    }
   ],
   "source": [
    "import math\n",
    "\n",
    "history = indusNetModel.fit_generator(\n",
    "      train_generator,\n",
    "      steps_per_epoch=math.ceil(number_of_training_samples//batch_size),\n",
    "      epochs=400,\n",
    "      callbacks=callbacks_list,\n",
    "      validation_data=validation_generator,\n",
    "      validation_steps=math.ceil(number_of_validation_samples//batch_size))"
   ]
  },
  {
   "cell_type": "markdown",
   "metadata": {
    "colab_type": "text",
    "id": "XJFvX9pFnA-J"
   },
   "source": [
    "Here, we visualize training of our model on regular images:"
   ]
  },
  {
   "cell_type": "code",
   "execution_count": null,
   "metadata": {
    "colab": {
     "base_uri": "https://localhost:8080/",
     "height": 573
    },
    "colab_type": "code",
    "id": "VfD_l7z65d3i",
    "outputId": "655ef8d4-7a77-4c3a-980f-38fd25b8a111"
   },
   "outputs": [
    {
     "data": {
      "image/png": "[encoded data removed]",
      "text/plain": [
       "<Figure size 432x288 with 1 Axes>"
      ]
     },
     "metadata": {
      "needs_background": "light",
      "tags": []
     },
     "output_type": "display_data"
    },
    {
     "data": {
      "image/png": "[encoded data removed]",
      "text/plain": [
       "<Figure size 432x288 with 1 Axes>"
      ]
     },
     "metadata": {
      "needs_background": "light",
      "tags": []
     },
     "output_type": "display_data"
    }
   ],
   "source": [
    "import matplotlib.pyplot as plt\n",
    "%matplotlib inline\n",
    "\n",
    "acc=history.history['categorical_accuracy']\n",
    "val_acc=history.history['val_categorical_accuracy']\n",
    "loss=history.history['loss']\n",
    "val_loss=history.history['val_loss']\n",
    "epochs=range(1,len(acc)+1)\n",
    "plt.xlabel('Epochs')\n",
    "plt.ylabel('Accuracy')\n",
    "plt.plot(epochs, acc, 'bo', label='Training acc')\n",
    "plt.plot(epochs, val_acc, 'b', label='Validation acc')\n",
    "plt.title('Training and validation accuracy')\n",
    "plt.legend()\n",
    "plt.figure()\n",
    "\n",
    "plt.plot(epochs, loss, 'bo', label='Training loss')\n",
    "plt.plot(epochs, val_loss, 'b', label='Validation loss')\n",
    "plt.title('Training and validation loss')\n",
    "plt.xlabel('Epochs')\n",
    "plt.ylabel('Loss')\n",
    "plt.legend()\n",
    "plt.show()"
   ]
  },
  {
   "cell_type": "markdown",
   "metadata": {
    "colab_type": "text",
    "id": "E2Apbc4XstA1"
   },
   "source": [
    "## Loading Train, Validation and Test Data Images"
   ]
  },
  {
   "cell_type": "code",
   "execution_count": 6,
   "metadata": {
    "colab": {
     "base_uri": "https://localhost:8080/",
     "height": 51
    },
    "colab_type": "code",
    "id": "_yfnrVNKZsD3",
    "outputId": "9a243dfd-14fd-4a23-90e4-fd73c5c45645"
   },
   "outputs": [
    {
     "name": "stdout",
     "output_type": "stream",
     "text": [
      "Total number of train examples:  (2800, 100, 100, 3)\n",
      "Total number of train labels: (2800, 1)\n"
     ]
    }
   ],
   "source": [
    "import glob\n",
    "from pathlib import Path\n",
    "from tensorflow.keras.utils import to_categorical\n",
    "import cv2\n",
    "\n",
    "apple_cases_dir = Path('D:\\\\TensorFlow Programs\\\\fruit_image_classification_Indus Fruit Dataset\\\\Indus Fruit Dataset_Resized Images_100_100\\\\Train\\\\apple')\n",
    "banana_cases_dir = Path('D:\\\\TensorFlow Programs\\\\fruit_image_classification_Indus Fruit Dataset\\\\Indus Fruit Dataset_Resized Images_100_100\\\\Train\\\\banana')\n",
    "orange_cases_dir = Path('D:\\\\TensorFlow Programs\\\\fruit_image_classification_Indus Fruit Dataset\\\\Indus Fruit Dataset_Resized Images_100_100\\\\Train\\\\orange')\n",
    "watermelon_cases_dir = Path('D:\\\\TensorFlow Programs\\\\fruit_image_classification_Indus Fruit Dataset\\\\Indus Fruit Dataset_Resized Images_100_100\\\\Train\\\\watermelon')\n",
    "mango_cases_dir = Path('D:\\\\TensorFlow Programs\\\\fruit_image_classification_Indus Fruit Dataset\\\\Indus Fruit Dataset_Resized Images_100_100\\\\Train\\\\mango')\n",
    "grape_cases_dir = Path('D:\\\\TensorFlow Programs\\\\fruit_image_classification_Indus Fruit Dataset\\\\Indus Fruit Dataset_Resized Images_100_100\\\\Train\\\\grape')\n",
    "strawberry_cases_dir = Path('D:\\\\TensorFlow Programs\\\\fruit_image_classification_Indus Fruit Dataset\\\\Indus Fruit Dataset_Resized Images_100_100\\\\Train\\\\strawberry')\n",
    "\n",
    "apple_cases = apple_cases_dir.glob('*.jpg')\n",
    "banana_cases = banana_cases_dir.glob('*.jpg')\n",
    "orange_cases = orange_cases_dir.glob('*.jpg')\n",
    "watermelon_cases = watermelon_cases_dir.glob('*.jpg')\n",
    "mango_cases = mango_cases_dir.glob('*.jpg')\n",
    "grape_cases = grape_cases_dir.glob('*.jpg')\n",
    "strawberry_cases = strawberry_cases_dir.glob('*.jpg')\n",
    "\n",
    "train_data = []\n",
    "train_labels = []\n",
    "\n",
    "for img in apple_cases:\n",
    "    img = cv2.imread(str(img))\n",
    "    img = cv2.cvtColor(img, cv2.COLOR_BGR2RGB)\n",
    "    img = img.astype(np.float32)/255.\n",
    "    label = [0]\n",
    "    train_data.append(img)\n",
    "    train_labels.append(label)\n",
    "\n",
    "for img in banana_cases:\n",
    "    img = cv2.imread(str(img))\n",
    "    img = cv2.cvtColor(img, cv2.COLOR_BGR2RGB)\n",
    "    img = img.astype(np.float32)/255.\n",
    "    label = [1]\n",
    "    train_data.append(img)\n",
    "    train_labels.append(label)\n",
    "\n",
    "for img in grape_cases:\n",
    "    img = cv2.imread(str(img))\n",
    "    img = cv2.cvtColor(img, cv2.COLOR_BGR2RGB)\n",
    "    img = img.astype(np.float32)/255.\n",
    "    label = [2]\n",
    "    train_data.append(img)\n",
    "    train_labels.append(label)\n",
    "    \n",
    "for img in mango_cases:\n",
    "    img = cv2.imread(str(img))\n",
    "    img = cv2.cvtColor(img, cv2.COLOR_BGR2RGB)\n",
    "    img = img.astype(np.float32)/255.\n",
    "    label = [3]\n",
    "    train_data.append(img)\n",
    "    train_labels.append(label)\n",
    "\n",
    "for img in orange_cases:\n",
    "    img = cv2.imread(str(img))\n",
    "    img = cv2.cvtColor(img, cv2.COLOR_BGR2RGB)\n",
    "    img = img.astype(np.float32)/255.\n",
    "    label = [4]\n",
    "    train_data.append(img)\n",
    "    train_labels.append(label)\n",
    "\n",
    "for img in strawberry_cases:\n",
    "    img = cv2.imread(str(img))\n",
    "    img = cv2.cvtColor(img, cv2.COLOR_BGR2RGB)\n",
    "    img = img.astype(np.float32)/255.\n",
    "    label = [5]\n",
    "    train_data.append(img)\n",
    "    train_labels.append(label)\n",
    "\n",
    "for img in watermelon_cases:\n",
    "    img = cv2.imread(str(img))\n",
    "    img = cv2.cvtColor(img, cv2.COLOR_BGR2RGB)\n",
    "    img = img.astype(np.float32)/255.\n",
    "    label = [6]\n",
    "    train_data.append(img)\n",
    "    train_labels.append(label)\n",
    "\n",
    "train_data = np.array(train_data)\n",
    "train_labels = np.array(train_labels)\n",
    "train_labels_one_hot_encoding=to_categorical(train_labels)\n",
    "\n",
    "print(\"Total number of train examples: \", train_data.shape)\n",
    "print(\"Total number of train labels:\", train_labels.shape)"
   ]
  },
  {
   "cell_type": "code",
   "execution_count": 7,
   "metadata": {},
   "outputs": [
    {
     "name": "stdout",
     "output_type": "stream",
     "text": [
      "Total number of validation examples:  (280, 100, 100, 3)\n",
      "Total number of validation labels: (280, 1)\n"
     ]
    }
   ],
   "source": [
    "apple_cases_dir = Path('D:\\\\TensorFlow Programs\\\\fruit_image_classification_Indus Fruit Dataset\\\\Indus Fruit Dataset_Resized Images_100_100\\\\Validation\\\\apple')\n",
    "banana_cases_dir = Path('D:\\\\TensorFlow Programs\\\\fruit_image_classification_Indus Fruit Dataset\\\\Indus Fruit Dataset_Resized Images_100_100\\\\Validation\\\\banana')\n",
    "orange_cases_dir = Path('D:\\\\TensorFlow Programs\\\\fruit_image_classification_Indus Fruit Dataset\\\\Indus Fruit Dataset_Resized Images_100_100\\\\Validation\\\\orange')\n",
    "watermelon_cases_dir = Path('D:\\\\TensorFlow Programs\\\\fruit_image_classification_Indus Fruit Dataset\\\\Indus Fruit Dataset_Resized Images_100_100\\\\Validation\\\\watermelon')\n",
    "mango_cases_dir = Path('D:\\\\TensorFlow Programs\\\\fruit_image_classification_Indus Fruit Dataset\\\\Indus Fruit Dataset_Resized Images_100_100\\\\Validation\\\\mango')\n",
    "grape_cases_dir = Path('D:\\\\TensorFlow Programs\\\\fruit_image_classification_Indus Fruit Dataset\\\\Indus Fruit Dataset_Resized Images_100_100\\\\Validation\\\\grape')\n",
    "strawberry_cases_dir = Path('D:\\\\TensorFlow Programs\\\\fruit_image_classification_Indus Fruit Dataset\\\\Indus Fruit Dataset_Resized Images_100_100\\\\Validation\\\\strawberry')\n",
    "\n",
    "apple_cases = apple_cases_dir.glob('*.jpg')\n",
    "banana_cases = banana_cases_dir.glob('*.jpg')\n",
    "orange_cases = orange_cases_dir.glob('*.jpg')\n",
    "watermelon_cases = watermelon_cases_dir.glob('*.jpg')\n",
    "mango_cases = mango_cases_dir.glob('*.jpg')\n",
    "grape_cases = grape_cases_dir.glob('*.jpg')\n",
    "strawberry_cases = strawberry_cases_dir.glob('*.jpg')\n",
    "\n",
    "validation_data = []\n",
    "validation_labels = []\n",
    "\n",
    "for img in apple_cases:\n",
    "    img = cv2.imread(str(img))\n",
    "    img = cv2.cvtColor(img, cv2.COLOR_BGR2RGB)\n",
    "    img = img.astype(np.float32)/255.\n",
    "    label = [0]\n",
    "    validation_data.append(img)\n",
    "    validation_labels.append(label)\n",
    "\n",
    "for img in banana_cases:\n",
    "    img = cv2.imread(str(img))\n",
    "    img = cv2.cvtColor(img, cv2.COLOR_BGR2RGB)\n",
    "    img = img.astype(np.float32)/255.\n",
    "    label = [1]\n",
    "    validation_data.append(img)\n",
    "    validation_labels.append(label)\n",
    "\n",
    "for img in grape_cases:\n",
    "    img = cv2.imread(str(img))\n",
    "    img = cv2.cvtColor(img, cv2.COLOR_BGR2RGB)\n",
    "    img = img.astype(np.float32)/255.\n",
    "    label = [2]\n",
    "    validation_data.append(img)\n",
    "    validation_labels.append(label)\n",
    "    \n",
    "for img in mango_cases:\n",
    "    img = cv2.imread(str(img))\n",
    "    img = cv2.cvtColor(img, cv2.COLOR_BGR2RGB)\n",
    "    img = img.astype(np.float32)/255.\n",
    "    label = [3]\n",
    "    validation_data.append(img)\n",
    "    validation_labels.append(label)\n",
    "\n",
    "for img in orange_cases:\n",
    "    img = cv2.imread(str(img))\n",
    "    img = cv2.cvtColor(img, cv2.COLOR_BGR2RGB)\n",
    "    img = img.astype(np.float32)/255.\n",
    "    label = [4]\n",
    "    validation_data.append(img)\n",
    "    validation_labels.append(label)\n",
    "\n",
    "for img in strawberry_cases:\n",
    "    img = cv2.imread(str(img))\n",
    "    img = cv2.cvtColor(img, cv2.COLOR_BGR2RGB)\n",
    "    img = img.astype(np.float32)/255.\n",
    "    label = [5]\n",
    "    validation_data.append(img)\n",
    "    validation_labels.append(label)\n",
    "\n",
    "for img in watermelon_cases:\n",
    "    img = cv2.imread(str(img))\n",
    "    img = cv2.cvtColor(img, cv2.COLOR_BGR2RGB)\n",
    "    img = img.astype(np.float32)/255.\n",
    "    label = [6]\n",
    "    validation_data.append(img)\n",
    "    validation_labels.append(label)\n",
    "\n",
    "validation_data = np.array(validation_data)\n",
    "validation_labels = np.array(validation_labels)\n",
    "validation_labels_one_hot_encoding=to_categorical(validation_labels)\n",
    "\n",
    "print(\"Total number of validation examples: \", validation_data.shape)\n",
    "print(\"Total number of validation labels:\", validation_labels.shape)"
   ]
  },
  {
   "cell_type": "code",
   "execution_count": 8,
   "metadata": {
    "colab": {
     "base_uri": "https://localhost:8080/",
     "height": 51
    },
    "colab_type": "code",
    "id": "n3TymqyclXQv",
    "outputId": "82a50553-f5eb-411e-d2af-3251b7a854f6"
   },
   "outputs": [
    {
     "name": "stdout",
     "output_type": "stream",
     "text": [
      "Total number of test examples:  (560, 100, 100, 3)\n",
      "Total number of test labels: (560, 1)\n"
     ]
    }
   ],
   "source": [
    "apple_cases_dir = Path('D:\\\\TensorFlow Programs\\\\fruit_image_classification_Indus Fruit Dataset\\\\Indus Fruit Dataset_Resized Images_100_100\\\\Test\\\\apple')\n",
    "banana_cases_dir = Path('D:\\\\TensorFlow Programs\\\\fruit_image_classification_Indus Fruit Dataset\\\\Indus Fruit Dataset_Resized Images_100_100\\\\Test\\\\banana')\n",
    "orange_cases_dir = Path('D:\\\\TensorFlow Programs\\\\fruit_image_classification_Indus Fruit Dataset\\\\Indus Fruit Dataset_Resized Images_100_100\\\\Test\\\\orange')\n",
    "watermelon_cases_dir = Path('D:\\\\TensorFlow Programs\\\\fruit_image_classification_Indus Fruit Dataset\\\\Indus Fruit Dataset_Resized Images_100_100\\\\Test\\\\watermelon')\n",
    "mango_cases_dir = Path('D:\\\\TensorFlow Programs\\\\fruit_image_classification_Indus Fruit Dataset\\\\Indus Fruit Dataset_Resized Images_100_100\\\\Test\\\\mango')\n",
    "grape_cases_dir = Path('D:\\\\TensorFlow Programs\\\\fruit_image_classification_Indus Fruit Dataset\\\\Indus Fruit Dataset_Resized Images_100_100\\\\Test\\\\grape')\n",
    "strawberry_cases_dir = Path('D:\\\\TensorFlow Programs\\\\fruit_image_classification_Indus Fruit Dataset\\\\Indus Fruit Dataset_Resized Images_100_100\\\\Test\\\\strawberry')\n",
    "\n",
    "apple_cases = apple_cases_dir.glob('*.jpg')\n",
    "banana_cases = banana_cases_dir.glob('*.jpg')\n",
    "orange_cases = orange_cases_dir.glob('*.jpg')\n",
    "watermelon_cases = watermelon_cases_dir.glob('*.jpg')\n",
    "mango_cases = mango_cases_dir.glob('*.jpg')\n",
    "grape_cases = grape_cases_dir.glob('*.jpg')\n",
    "strawberry_cases = strawberry_cases_dir.glob('*.jpg')\n",
    "\n",
    "test_data = []\n",
    "test_labels = []\n",
    "\n",
    "for img in apple_cases:\n",
    "    img = cv2.imread(str(img))\n",
    "    img = cv2.cvtColor(img, cv2.COLOR_BGR2RGB)\n",
    "    img = img.astype(np.float32)/255.\n",
    "    label = [0]\n",
    "    test_data.append(img)\n",
    "    test_labels.append(label)\n",
    "\n",
    "for img in banana_cases:\n",
    "    img = cv2.imread(str(img))\n",
    "    img = cv2.cvtColor(img, cv2.COLOR_BGR2RGB)\n",
    "    img = img.astype(np.float32)/255.\n",
    "    label = [1]\n",
    "    test_data.append(img)\n",
    "    test_labels.append(label)\n",
    "\n",
    "for img in grape_cases:\n",
    "    img = cv2.imread(str(img))\n",
    "    img = cv2.cvtColor(img, cv2.COLOR_BGR2RGB)\n",
    "    img = img.astype(np.float32)/255.\n",
    "    label = [2]\n",
    "    test_data.append(img)\n",
    "    test_labels.append(label)\n",
    "    \n",
    "for img in mango_cases:\n",
    "    img = cv2.imread(str(img))\n",
    "    img = cv2.cvtColor(img, cv2.COLOR_BGR2RGB)\n",
    "    img = img.astype(np.float32)/255.\n",
    "    label = [3]\n",
    "    test_data.append(img)\n",
    "    test_labels.append(label)\n",
    "\n",
    "for img in orange_cases:\n",
    "    img = cv2.imread(str(img))\n",
    "    img = cv2.cvtColor(img, cv2.COLOR_BGR2RGB)\n",
    "    img = img.astype(np.float32)/255.\n",
    "    label = [4]\n",
    "    test_data.append(img)\n",
    "    test_labels.append(label)\n",
    "\n",
    "for img in strawberry_cases:\n",
    "    img = cv2.imread(str(img))\n",
    "    img = cv2.cvtColor(img, cv2.COLOR_BGR2RGB)\n",
    "    img = img.astype(np.float32)/255.\n",
    "    label = [5]\n",
    "    test_data.append(img)\n",
    "    test_labels.append(label)\n",
    "\n",
    "for img in watermelon_cases:\n",
    "    img = cv2.imread(str(img))\n",
    "    img = cv2.cvtColor(img, cv2.COLOR_BGR2RGB)\n",
    "    img = img.astype(np.float32)/255.\n",
    "    label = [6]\n",
    "    test_data.append(img)\n",
    "    test_labels.append(label)\n",
    "\n",
    "test_data = np.array(test_data)\n",
    "test_labels = np.array(test_labels)\n",
    "test_labels_one_hot_encoding=to_categorical(test_labels)\n",
    "\n",
    "print(\"Total number of test examples: \", test_data.shape)\n",
    "print(\"Total number of test labels:\", test_labels.shape)"
   ]
  },
  {
   "cell_type": "markdown",
   "metadata": {
    "colab_type": "text",
    "id": "4le_VtJZt9_2"
   },
   "source": [
    "## Loading and Evaluating the Best Model\n",
    "Now we load the best model obtained as a result of training on regular images. "
   ]
  },
  {
   "cell_type": "code",
   "execution_count": 9,
   "metadata": {
    "colab": {},
    "colab_type": "code",
    "id": "_TSXNKTZ5vNC"
   },
   "outputs": [],
   "source": [
    "from tensorflow.python.keras.models import load_model\n",
    "\n",
    "best_model = load_model('IndusNet_7_classes_100_100_2nd Experiment.h5')"
   ]
  },
  {
   "cell_type": "markdown",
   "metadata": {
    "colab_type": "text",
    "id": "CmNqsveZxp0p"
   },
   "source": [
    "Now we evaluate the best model on the test set of regular images:"
   ]
  },
  {
   "cell_type": "code",
   "execution_count": 10,
   "metadata": {
    "colab": {
     "base_uri": "https://localhost:8080/",
     "height": 105
    },
    "colab_type": "code",
    "id": "n09kZ0YoiFo0",
    "outputId": "295ad8bb-49ea-4e53-9318-97c2d66cedd4"
   },
   "outputs": [
    {
     "name": "stdout",
     "output_type": "stream",
     "text": [
      " 1/70 [..............................] - ETA: 0s - loss: 0.8350 - categorical_accuracy: 0.7500WARNING:tensorflow:Callbacks method `on_test_batch_end` is slow compared to the batch time (batch time: 0.0040s vs `on_test_batch_end` time: 0.0280s). Check your callbacks.\n",
      "70/70 [==============================] - 2s 34ms/step - loss: 0.4080 - categorical_accuracy: 0.9232\n",
      "Loss on test set:  0.40804198384284973\n",
      "Accuracy on test set:  0.9232142567634583\n"
     ]
    }
   ],
   "source": [
    "# Evaluation on test dataset\n",
    "\n",
    "test_loss, test_score = best_model.evaluate(test_data, test_labels_one_hot_encoding, batch_size=8)\n",
    "print(\"Loss on test set: \", test_loss)\n",
    "print(\"Accuracy on test set: \", test_score)"
   ]
  },
  {
   "cell_type": "markdown",
   "metadata": {
    "colab_type": "text",
    "id": "Fbct9eslycGZ"
   },
   "source": [
    "# Generation of Adversarial Images for Model Fine-Tuning\n",
    "First we import some packages.."
   ]
  },
  {
   "cell_type": "code",
   "execution_count": 11,
   "metadata": {
    "colab": {},
    "colab_type": "code",
    "id": "vBCyNqxhVu4B"
   },
   "outputs": [],
   "source": [
    "import random\n",
    "import tensorflow as tf\n",
    "import matplotlib.pyplot as plt"
   ]
  },
  {
   "cell_type": "markdown",
   "metadata": {
    "colab_type": "text",
    "id": "srHdBnuRH2NW"
   },
   "source": [
    "Here we define a function that will generate adversarial pattern using Fast Gradient Signed Method (FGSM). FGSM enables us to perform white box untargeted attack."
   ]
  },
  {
   "cell_type": "code",
   "execution_count": 12,
   "metadata": {
    "colab": {},
    "colab_type": "code",
    "id": "B0M03MlKV8vC"
   },
   "outputs": [],
   "source": [
    "def adversarial_pattern(image, label):\n",
    "    image = tf.cast(image, tf.float32)\n",
    "    \n",
    "    with tf.GradientTape() as tape:\n",
    "        tape.watch(image)\n",
    "        prediction = best_model(image)\n",
    "        loss = tf.keras.losses.MSE(label, prediction)\n",
    "    \n",
    "    gradient = tape.gradient(loss, image)\n",
    "    \n",
    "    signed_grad = tf.sign(gradient)\n",
    "    \n",
    "    return signed_grad"
   ]
  },
  {
   "cell_type": "markdown",
   "metadata": {
    "colab_type": "text",
    "id": "Ksr243KYJWQR"
   },
   "source": [
    "Here we generate a sample adversarial image...."
   ]
  },
  {
   "cell_type": "code",
   "execution_count": 13,
   "metadata": {},
   "outputs": [],
   "source": [
    "from PIL import Image"
   ]
  },
  {
   "cell_type": "code",
   "execution_count": 18,
   "metadata": {
    "colab": {
     "base_uri": "https://localhost:8080/",
     "height": 285
    },
    "colab_type": "code",
    "id": "2Z94CugtfGkh",
    "outputId": "2fc60dd1-ea74-489b-c311-2213508ca612"
   },
   "outputs": [
    {
     "name": "stderr",
     "output_type": "stream",
     "text": [
      "Clipping input data to the valid range for imshow with RGB data ([0..1] for floats or [0..255] for integers).\n"
     ]
    },
    {
     "data": {
      "image/png": "[encoded data removed]",
      "text/plain": [
       "<Figure size 432x288 with 1 Axes>"
      ]
     },
     "metadata": {
      "needs_background": "light"
     },
     "output_type": "display_data"
    }
   ],
   "source": [
    "img_rows=100\n",
    "img_cols=100\n",
    "channels=3\n",
    "image = train_data[1000]\n",
    "image_label=train_labels[1000]\n",
    "perturbations = adversarial_pattern(image.reshape((1, img_rows, img_cols, channels)), image_label).numpy()\n",
    "adversarial = image + perturbations * 0.2\n",
    "plt.imshow(adversarial.reshape(img_rows,img_cols,channels))\n",
    "plt.show()"
   ]
  },
  {
   "cell_type": "markdown",
   "metadata": {
    "colab_type": "text",
    "id": "je9tuY76NP2v"
   },
   "source": [
    "Here we display the same image in its original form:"
   ]
  },
  {
   "cell_type": "code",
   "execution_count": 19,
   "metadata": {
    "colab": {
     "base_uri": "https://localhost:8080/",
     "height": 285
    },
    "colab_type": "code",
    "id": "bTnFoX13hyfx",
    "outputId": "b02efd8a-0ec6-4fef-db99-cb8e477c6e67"
   },
   "outputs": [
    {
     "data": {
      "text/plain": [
       "<matplotlib.image.AxesImage at 0x1eb4adacf70>"
      ]
     },
     "execution_count": 19,
     "metadata": {},
     "output_type": "execute_result"
    },
    {
     "data": {
      "image/png": "[encoded data removed]",
      "text/plain": [
       "<Figure size 432x288 with 1 Axes>"
      ]
     },
     "metadata": {
      "needs_background": "light"
     },
     "output_type": "display_data"
    }
   ],
   "source": [
    "plt.imshow(train_data[1000])"
   ]
  },
  {
   "cell_type": "markdown",
   "metadata": {
    "colab_type": "text",
    "id": "GjC-nSaSPHTp"
   },
   "source": [
    "Predicting the fruit image class for both the original image as well as the perturbed image using the model trained solely on regular images."
   ]
  },
  {
   "cell_type": "code",
   "execution_count": 20,
   "metadata": {
    "colab": {
     "base_uri": "https://localhost:8080/",
     "height": 51
    },
    "colab_type": "code",
    "id": "Y7mjx1LGj1q4",
    "outputId": "23cb5395-3b54-46c6-93f8-56f0947a318f"
   },
   "outputs": [
    {
     "name": "stdout",
     "output_type": "stream",
     "text": [
      "2\n",
      "2\n"
     ]
    }
   ],
   "source": [
    "print(best_model.predict(image.reshape((1, img_rows, img_cols, channels))).argmax())\n",
    "print(best_model.predict(adversarial).argmax())"
   ]
  },
  {
   "cell_type": "code",
   "execution_count": 21,
   "metadata": {},
   "outputs": [
    {
     "data": {
      "text/plain": [
       "numpy.ndarray"
      ]
     },
     "execution_count": 21,
     "metadata": {},
     "output_type": "execute_result"
    }
   ],
   "source": [
    "type(adversarial)"
   ]
  },
  {
   "cell_type": "code",
   "execution_count": 22,
   "metadata": {},
   "outputs": [
    {
     "data": {
      "text/plain": [
       "(1, 100, 100, 3)"
      ]
     },
     "execution_count": 22,
     "metadata": {},
     "output_type": "execute_result"
    }
   ],
   "source": [
    "adversarial.shape"
   ]
  },
  {
   "cell_type": "markdown",
   "metadata": {
    "colab_type": "text",
    "id": "6tm9jg-bU7M3"
   },
   "source": [
    "Adversarial test images created and stored...."
   ]
  },
  {
   "cell_type": "code",
   "execution_count": 23,
   "metadata": {
    "colab": {
     "base_uri": "https://localhost:8080/",
     "height": 51
    },
    "colab_type": "code",
    "id": "T_Dk2jZwQXrB",
    "outputId": "d428391c-1d2a-47e9-e662-63b83e54e2f8"
   },
   "outputs": [
    {
     "name": "stdout",
     "output_type": "stream",
     "text": [
      "(560, 100, 100, 3)\n",
      "(560, 1)\n"
     ]
    }
   ],
   "source": [
    "img_rows=100\n",
    "img_cols=100\n",
    "channels=3\n",
    "adversarial_test_data=[]\n",
    "adversarial_test_labels=[]\n",
    "for i in range(test_data.shape[0]):\n",
    "  image = test_data[i]\n",
    "  image_label=test_labels[i]\n",
    "  perturbations = adversarial_pattern(image.reshape((1, img_rows, img_cols, channels)), image_label).numpy()\n",
    "  adversarial=image + perturbations * 0.2\n",
    "  adversarial_test_data.append(adversarial)  \n",
    "  adversarial_test_labels.append(image_label)  \n",
    "adversarial_test_data=np.array(adversarial_test_data).reshape(-1,100,100,3)\n",
    "adversarial_test_labels=np.array(adversarial_test_labels).reshape(-1,1)\n",
    "print(adversarial_test_data.shape)\n",
    "print(adversarial_test_labels.shape)"
   ]
  },
  {
   "cell_type": "markdown",
   "metadata": {
    "colab_type": "text",
    "id": "QD1YO1rM2aLx"
   },
   "source": [
    "Here, we evaluate the best model (not fine tuned yet!) on adversarial test images."
   ]
  },
  {
   "cell_type": "code",
   "execution_count": 24,
   "metadata": {
    "colab": {
     "base_uri": "https://localhost:8080/",
     "height": 51
    },
    "colab_type": "code",
    "id": "CcyqnrS064qG",
    "outputId": "a4fbd635-b68a-4f55-a0dd-41240b7822de"
   },
   "outputs": [
    {
     "name": "stdout",
     "output_type": "stream",
     "text": [
      "18/18 [==============================] - 3s 156ms/step - loss: 10.2141 - categorical_accuracy: 0.5018\n"
     ]
    },
    {
     "data": {
      "text/plain": [
       "[10.214113235473633, 0.5017856955528259]"
      ]
     },
     "execution_count": 24,
     "metadata": {},
     "output_type": "execute_result"
    }
   ],
   "source": [
    "best_model.evaluate(x=adversarial_test_data, y=to_categorical(adversarial_test_labels,7), verbose=1)"
   ]
  },
  {
   "cell_type": "code",
   "execution_count": 25,
   "metadata": {},
   "outputs": [],
   "source": [
    "NUMBER_OF_TRAIN_IMAGES_PER_FRUIT_CLASS=400\n",
    "fruit_classes=['apple','banana','grape','mango','orange','strawberry','watermelon']\n",
    "DATA_DIR='D:\\\\TensorFlow Programs\\\\fruit_image_classification_Indus Fruit Dataset\\\\Indus Fruit Dataset_Resized Images_100_100_with Adversarial Images_0_2_IndusNet\\\\Train'\n",
    "j=0\n",
    "k=0\n",
    "for i in range(len(train_data)):\n",
    "    if (i%400)!=0 or i==0:\n",
    "        path = os.path.join(DATA_DIR,fruit_classes[j])\n",
    "        original_image=train_data[i]\n",
    "        label_of_original_image=train_labels[i]\n",
    "        perturbations = adversarial_pattern(original_image.reshape((1, img_rows, img_cols, channels)), label_of_original_image).numpy()\n",
    "        adversarial = original_image + perturbations * 0.2\n",
    "        plt.imsave(os.path.join(path,\"adv_\"+fruit_classes[j]+\"_\"+str(k+1+NUMBER_OF_TRAIN_IMAGES_PER_FRUIT_CLASS)+\".jpg\"),np.clip(adversarial.reshape(img_rows,img_cols,channels),0.0,1.0))\n",
    "        k+=1\n",
    "    elif (i%400)==0 and i!=0:\n",
    "        k=0\n",
    "        j+=1\n",
    "        path = os.path.join(DATA_DIR,fruit_classes[j])\n",
    "        original_image=train_data[i]\n",
    "        label_of_original_image=train_labels[i]\n",
    "        perturbations = adversarial_pattern(original_image.reshape((1, img_rows, img_cols, channels)), label_of_original_image).numpy()\n",
    "        adversarial = original_image + perturbations * 0.2\n",
    "        plt.imsave(os.path.join(path,\"adv_\"+fruit_classes[j]+\"_\"+str(k+1+NUMBER_OF_TRAIN_IMAGES_PER_FRUIT_CLASS)+\".jpg\"),np.clip(adversarial.reshape(img_rows,img_cols,channels),0.0,1.0))  \n",
    "        k+=1"
   ]
  },
  {
   "cell_type": "code",
   "execution_count": 26,
   "metadata": {},
   "outputs": [],
   "source": [
    "NUMBER_OF_VALIDATION_IMAGES_PER_FRUIT_CLASS=40\n",
    "fruit_classes=['apple','banana','grape','mango','orange','strawberry','watermelon']\n",
    "DATA_DIR='D:\\\\TensorFlow Programs\\\\fruit_image_classification_Indus Fruit Dataset\\\\Indus Fruit Dataset_Resized Images_100_100_with Adversarial Images_0_2_IndusNet\\\\Validation'\n",
    "j=0\n",
    "k=0\n",
    "for i in range(len(validation_data)):\n",
    "    if (i%NUMBER_OF_VALIDATION_IMAGES_PER_FRUIT_CLASS)!=0 or i==0:\n",
    "        path = os.path.join(DATA_DIR,fruit_classes[j])\n",
    "        original_image=validation_data[i]\n",
    "        label_of_original_image=validation_labels[i]\n",
    "        perturbations = adversarial_pattern(original_image.reshape((1, img_rows, img_cols, channels)), label_of_original_image).numpy()\n",
    "        adversarial = original_image + perturbations * 0.2\n",
    "        plt.imsave(os.path.join(path,\"adv_\"+fruit_classes[j]+\"_\"+str(k+1+NUMBER_OF_VALIDATION_IMAGES_PER_FRUIT_CLASS)+\".jpg\"),np.clip(adversarial.reshape(img_rows,img_cols,channels),0.0,1.0))\n",
    "        k+=1\n",
    "    elif (i%NUMBER_OF_VALIDATION_IMAGES_PER_FRUIT_CLASS)==0 and i!=0:\n",
    "        k=0\n",
    "        j+=1\n",
    "        path = os.path.join(DATA_DIR,fruit_classes[j])\n",
    "        original_image=validation_data[i]\n",
    "        label_of_original_image=validation_labels[i]\n",
    "        perturbations = adversarial_pattern(original_image.reshape((1, img_rows, img_cols, channels)), label_of_original_image).numpy()\n",
    "        adversarial = original_image + perturbations * 0.2\n",
    "        plt.imsave(os.path.join(path,\"adv_\"+fruit_classes[j]+\"_\"+str(k+1+NUMBER_OF_VALIDATION_IMAGES_PER_FRUIT_CLASS)+\".jpg\"),np.clip(adversarial.reshape(img_rows,img_cols,channels),0.0,1.0))  \n",
    "        k+=1"
   ]
  },
  {
   "cell_type": "code",
   "execution_count": 27,
   "metadata": {},
   "outputs": [],
   "source": [
    "indusNet_train_set_with_adversarial_images='D:\\\\TensorFlow Programs\\\\fruit_image_classification_Indus Fruit Dataset\\\\Indus Fruit Dataset_Resized Images_100_100_with Adversarial Images_0_2_IndusNet\\\\Train'\n",
    "indusNet_validation_set_with_adversarial_images='D:\\\\TensorFlow Programs\\\\fruit_image_classification_Indus Fruit Dataset\\\\Indus Fruit Dataset_Resized Images_100_100_with Adversarial Images_0_2_IndusNet\\\\Validation'"
   ]
  },
  {
   "cell_type": "code",
   "execution_count": 28,
   "metadata": {},
   "outputs": [
    {
     "name": "stdout",
     "output_type": "stream",
     "text": [
      "Found 5600 images belonging to 7 classes.\n",
      "Found 560 images belonging to 7 classes.\n"
     ]
    }
   ],
   "source": [
    "batch_size=16\n",
    "\n",
    "train_datagen = ImageDataGenerator(\n",
    "    rescale=1./255,\n",
    "    rotation_range=40,\n",
    "    width_shift_range=0.2,\n",
    "    height_shift_range=0.2,\n",
    "    shear_range=0.2,\n",
    "    zoom_range=0.2,\n",
    "    horizontal_flip=True,)\n",
    "\n",
    "# Note that the validation data should not be augmented!\n",
    "validation_datagen=ImageDataGenerator(rescale=1./255)\n",
    "\n",
    "train_generator = train_datagen.flow_from_directory(\n",
    "        # This is the target directory\n",
    "        indusNet_train_set_with_adversarial_images,\n",
    "        target_size=(100, 100),\n",
    "        batch_size=batch_size)\n",
    "\n",
    "validation_generator = validation_datagen.flow_from_directory(\n",
    "        indusNet_validation_set_with_adversarial_images,\n",
    "        target_size=(100, 100),\n",
    "        batch_size=batch_size, shuffle=False)"
   ]
  },
  {
   "cell_type": "code",
   "execution_count": 29,
   "metadata": {},
   "outputs": [],
   "source": [
    "best_model.trainable = True\n",
    "\n",
    "set_trainable = False\n",
    "for layer in best_model.layers:\n",
    "    if layer.name == 'conv2d_6':\n",
    "        set_trainable = True\n",
    "    if set_trainable:\n",
    "        layer.trainable = True\n",
    "    else:\n",
    "        layer.trainable = False"
   ]
  },
  {
   "cell_type": "code",
   "execution_count": 30,
   "metadata": {},
   "outputs": [],
   "source": [
    "filepath=\"IndusNet_7_classes_100_100_with_adversarial_samples_0_2_9th Experiment_fine tuned_last 4 conv layers unfrozen.h5\"\n",
    "checkpoint = ModelCheckpoint(filepath, save_best_only=True)\n",
    "callbacks_list = [checkpoint]\n",
    "best_model.compile(loss='categorical_crossentropy',optimizer=optimizers.Adam(lr=1e-5),metrics=['categorical_accuracy'])"
   ]
  },
  {
   "cell_type": "code",
   "execution_count": 31,
   "metadata": {},
   "outputs": [
    {
     "name": "stdout",
     "output_type": "stream",
     "text": [
      "Model: \"sequential\"\n",
      "_________________________________________________________________\n",
      "Layer (type)                 Output Shape              Param #   \n",
      "=================================================================\n",
      "conv2d (Conv2D)              (None, 98, 98, 64)        1792      \n",
      "_________________________________________________________________\n",
      "conv2d_1 (Conv2D)            (None, 96, 96, 64)        36928     \n",
      "_________________________________________________________________\n",
      "conv2d_2 (Conv2D)            (None, 94, 94, 128)       73856     \n",
      "_________________________________________________________________\n",
      "conv2d_3 (Conv2D)            (None, 92, 92, 128)       147584    \n",
      "_________________________________________________________________\n",
      "max_pooling2d (MaxPooling2D) (None, 46, 46, 128)       0         \n",
      "_________________________________________________________________\n",
      "dropout (Dropout)            (None, 46, 46, 128)       0         \n",
      "_________________________________________________________________\n",
      "conv2d_4 (Conv2D)            (None, 44, 44, 128)       147584    \n",
      "_________________________________________________________________\n",
      "conv2d_5 (Conv2D)            (None, 42, 42, 128)       147584    \n",
      "_________________________________________________________________\n",
      "conv2d_6 (Conv2D)            (None, 40, 40, 256)       295168    \n",
      "_________________________________________________________________\n",
      "conv2d_7 (Conv2D)            (None, 38, 38, 256)       590080    \n",
      "_________________________________________________________________\n",
      "max_pooling2d_1 (MaxPooling2 (None, 19, 19, 256)       0         \n",
      "_________________________________________________________________\n",
      "dropout_1 (Dropout)          (None, 19, 19, 256)       0         \n",
      "_________________________________________________________________\n",
      "conv2d_8 (Conv2D)            (None, 17, 17, 256)       590080    \n",
      "_________________________________________________________________\n",
      "conv2d_9 (Conv2D)            (None, 15, 15, 512)       1180160   \n",
      "_________________________________________________________________\n",
      "max_pooling2d_2 (MaxPooling2 (None, 7, 7, 512)         0         \n",
      "_________________________________________________________________\n",
      "dropout_2 (Dropout)          (None, 7, 7, 512)         0         \n",
      "_________________________________________________________________\n",
      "flatten (Flatten)            (None, 25088)             0         \n",
      "_________________________________________________________________\n",
      "dense (Dense)                (None, 32)                802848    \n",
      "_________________________________________________________________\n",
      "dropout_3 (Dropout)          (None, 32)                0         \n",
      "_________________________________________________________________\n",
      "dense_1 (Dense)              (None, 7)                 231       \n",
      "=================================================================\n",
      "Total params: 4,013,895\n",
      "Trainable params: 3,458,567\n",
      "Non-trainable params: 555,328\n",
      "_________________________________________________________________\n"
     ]
    }
   ],
   "source": [
    "best_model.summary()"
   ]
  },
  {
   "cell_type": "code",
   "execution_count": 32,
   "metadata": {},
   "outputs": [],
   "source": [
    "number_of_training_samples=5600\n",
    "number_of_validation_samples=560"
   ]
  },
  {
   "cell_type": "code",
   "execution_count": 33,
   "metadata": {},
   "outputs": [
    {
     "name": "stdout",
     "output_type": "stream",
     "text": [
      "WARNING:tensorflow:From <ipython-input-33-473ee653813f>:3: Model.fit_generator (from tensorflow.python.keras.engine.training) is deprecated and will be removed in a future version.\n",
      "Instructions for updating:\n",
      "Please use Model.fit, which supports generators.\n",
      "Epoch 1/100\n",
      "350/350 [==============================] - 44s 127ms/step - loss: 1.6237 - categorical_accuracy: 0.7745 - val_loss: 1.5728 - val_categorical_accuracy: 0.7554\n",
      "Epoch 2/100\n",
      "350/350 [==============================] - 38s 109ms/step - loss: 0.7166 - categorical_accuracy: 0.8007 - val_loss: 1.0692 - val_categorical_accuracy: 0.7821\n",
      "Epoch 3/100\n",
      "350/350 [==============================] - 35s 99ms/step - loss: 0.5793 - categorical_accuracy: 0.8221 - val_loss: 0.8778 - val_categorical_accuracy: 0.7911\n",
      "Epoch 4/100\n",
      "350/350 [==============================] - 32s 90ms/step - loss: 0.5287 - categorical_accuracy: 0.8389 - val_loss: 0.8021 - val_categorical_accuracy: 0.8071\n",
      "Epoch 5/100\n",
      "350/350 [==============================] - 34s 97ms/step - loss: 0.4981 - categorical_accuracy: 0.8436 - val_loss: 0.7638 - val_categorical_accuracy: 0.8107\n",
      "Epoch 6/100\n",
      "350/350 [==============================] - 39s 111ms/step - loss: 0.4461 - categorical_accuracy: 0.8566 - val_loss: 0.7537 - val_categorical_accuracy: 0.8036\n",
      "Epoch 7/100\n",
      "350/350 [==============================] - 33s 96ms/step - loss: 0.4354 - categorical_accuracy: 0.8596 - val_loss: 0.7380 - val_categorical_accuracy: 0.8179\n",
      "Epoch 8/100\n",
      "350/350 [==============================] - 35s 99ms/step - loss: 0.4211 - categorical_accuracy: 0.8634 - val_loss: 0.7115 - val_categorical_accuracy: 0.8232\n",
      "Epoch 9/100\n",
      "350/350 [==============================] - 33s 95ms/step - loss: 0.4055 - categorical_accuracy: 0.8712 - val_loss: 0.6903 - val_categorical_accuracy: 0.8321\n",
      "Epoch 10/100\n",
      "350/350 [==============================] - 32s 92ms/step - loss: 0.3831 - categorical_accuracy: 0.8712 - val_loss: 0.6778 - val_categorical_accuracy: 0.8286\n",
      "Epoch 11/100\n",
      "350/350 [==============================] - 30s 87ms/step - loss: 0.3748 - categorical_accuracy: 0.8807 - val_loss: 0.6671 - val_categorical_accuracy: 0.8393\n",
      "Epoch 12/100\n",
      "350/350 [==============================] - 34s 96ms/step - loss: 0.3731 - categorical_accuracy: 0.8780 - val_loss: 0.6437 - val_categorical_accuracy: 0.8536\n",
      "Epoch 13/100\n",
      "350/350 [==============================] - 30s 87ms/step - loss: 0.3567 - categorical_accuracy: 0.8850 - val_loss: 0.6339 - val_categorical_accuracy: 0.8536\n",
      "Epoch 14/100\n",
      "350/350 [==============================] - 32s 92ms/step - loss: 0.3504 - categorical_accuracy: 0.8868 - val_loss: 0.6125 - val_categorical_accuracy: 0.8518\n",
      "Epoch 15/100\n",
      "350/350 [==============================] - 31s 89ms/step - loss: 0.3355 - categorical_accuracy: 0.8927 - val_loss: 0.6124 - val_categorical_accuracy: 0.8536\n",
      "Epoch 16/100\n",
      "350/350 [==============================] - 30s 86ms/step - loss: 0.3330 - categorical_accuracy: 0.8918 - val_loss: 0.6140 - val_categorical_accuracy: 0.8571\n",
      "Epoch 17/100\n",
      "350/350 [==============================] - 31s 89ms/step - loss: 0.3231 - categorical_accuracy: 0.8988 - val_loss: 0.5853 - val_categorical_accuracy: 0.8607\n",
      "Epoch 18/100\n",
      "350/350 [==============================] - 31s 89ms/step - loss: 0.3160 - categorical_accuracy: 0.9013 - val_loss: 0.5949 - val_categorical_accuracy: 0.8536\n",
      "Epoch 19/100\n",
      "350/350 [==============================] - 32s 90ms/step - loss: 0.3181 - categorical_accuracy: 0.8996 - val_loss: 0.5994 - val_categorical_accuracy: 0.8518\n",
      "Epoch 20/100\n",
      "350/350 [==============================] - 34s 97ms/step - loss: 0.2928 - categorical_accuracy: 0.9043 - val_loss: 0.6053 - val_categorical_accuracy: 0.8625\n",
      "Epoch 21/100\n",
      "350/350 [==============================] - 33s 93ms/step - loss: 0.2944 - categorical_accuracy: 0.9095 - val_loss: 0.5879 - val_categorical_accuracy: 0.8536\n",
      "Epoch 22/100\n",
      "350/350 [==============================] - 33s 94ms/step - loss: 0.2846 - categorical_accuracy: 0.9091 - val_loss: 0.6245 - val_categorical_accuracy: 0.8589\n",
      "Epoch 23/100\n",
      "350/350 [==============================] - 32s 91ms/step - loss: 0.2817 - categorical_accuracy: 0.9055 - val_loss: 0.5932 - val_categorical_accuracy: 0.8625\n",
      "Epoch 24/100\n",
      "350/350 [==============================] - 32s 90ms/step - loss: 0.2876 - categorical_accuracy: 0.9079 - val_loss: 0.5725 - val_categorical_accuracy: 0.8643\n",
      "Epoch 25/100\n",
      "350/350 [==============================] - 31s 90ms/step - loss: 0.2814 - categorical_accuracy: 0.9112 - val_loss: 0.5816 - val_categorical_accuracy: 0.8679\n",
      "Epoch 26/100\n",
      "350/350 [==============================] - 31s 88ms/step - loss: 0.2766 - categorical_accuracy: 0.9116 - val_loss: 0.5891 - val_categorical_accuracy: 0.8661\n",
      "Epoch 27/100\n",
      "350/350 [==============================] - 30s 87ms/step - loss: 0.2740 - categorical_accuracy: 0.9096 - val_loss: 0.5830 - val_categorical_accuracy: 0.8643\n",
      "Epoch 28/100\n",
      "350/350 [==============================] - 31s 88ms/step - loss: 0.2683 - categorical_accuracy: 0.9132 - val_loss: 0.5732 - val_categorical_accuracy: 0.8768\n",
      "Epoch 29/100\n",
      "350/350 [==============================] - 31s 90ms/step - loss: 0.2602 - categorical_accuracy: 0.9155 - val_loss: 0.5556 - val_categorical_accuracy: 0.8768\n",
      "Epoch 30/100\n",
      "350/350 [==============================] - 35s 99ms/step - loss: 0.2648 - categorical_accuracy: 0.9150 - val_loss: 0.5840 - val_categorical_accuracy: 0.8696\n",
      "Epoch 31/100\n",
      "350/350 [==============================] - 32s 92ms/step - loss: 0.2552 - categorical_accuracy: 0.9200 - val_loss: 0.5645 - val_categorical_accuracy: 0.8786\n",
      "Epoch 32/100\n",
      "350/350 [==============================] - 32s 92ms/step - loss: 0.2533 - categorical_accuracy: 0.9200 - val_loss: 0.5630 - val_categorical_accuracy: 0.8768\n",
      "Epoch 33/100\n",
      "350/350 [==============================] - 32s 92ms/step - loss: 0.2587 - categorical_accuracy: 0.9187 - val_loss: 0.5765 - val_categorical_accuracy: 0.8714\n",
      "Epoch 34/100\n",
      "350/350 [==============================] - 33s 95ms/step - loss: 0.2553 - categorical_accuracy: 0.9173 - val_loss: 0.5668 - val_categorical_accuracy: 0.8804\n",
      "Epoch 35/100\n",
      "350/350 [==============================] - 35s 99ms/step - loss: 0.2559 - categorical_accuracy: 0.9227 - val_loss: 0.5865 - val_categorical_accuracy: 0.8750\n",
      "Epoch 36/100\n",
      "350/350 [==============================] - 37s 105ms/step - loss: 0.2364 - categorical_accuracy: 0.9241 - val_loss: 0.5753 - val_categorical_accuracy: 0.8839\n",
      "Epoch 37/100\n",
      "350/350 [==============================] - 30s 87ms/step - loss: 0.2496 - categorical_accuracy: 0.9205 - val_loss: 0.5705 - val_categorical_accuracy: 0.8768\n",
      "Epoch 38/100\n",
      "350/350 [==============================] - 30s 87ms/step - loss: 0.2338 - categorical_accuracy: 0.9243 - val_loss: 0.6084 - val_categorical_accuracy: 0.8839\n",
      "Epoch 39/100\n",
      "350/350 [==============================] - 31s 87ms/step - loss: 0.2367 - categorical_accuracy: 0.9254 - val_loss: 0.6131 - val_categorical_accuracy: 0.8768\n",
      "Epoch 40/100\n",
      "350/350 [==============================] - 30s 86ms/step - loss: 0.2350 - categorical_accuracy: 0.9254 - val_loss: 0.5850 - val_categorical_accuracy: 0.8768\n",
      "Epoch 41/100\n",
      "350/350 [==============================] - 30s 86ms/step - loss: 0.2315 - categorical_accuracy: 0.9280 - val_loss: 0.5926 - val_categorical_accuracy: 0.8750\n",
      "Epoch 42/100\n",
      "350/350 [==============================] - 30s 85ms/step - loss: 0.2324 - categorical_accuracy: 0.9280 - val_loss: 0.5918 - val_categorical_accuracy: 0.8821\n",
      "Epoch 43/100\n",
      "350/350 [==============================] - 30s 87ms/step - loss: 0.2193 - categorical_accuracy: 0.9293 - val_loss: 0.5821 - val_categorical_accuracy: 0.8679\n",
      "Epoch 44/100\n",
      "350/350 [==============================] - 33s 93ms/step - loss: 0.2222 - categorical_accuracy: 0.9282 - val_loss: 0.5773 - val_categorical_accuracy: 0.8804\n",
      "Epoch 45/100\n",
      "350/350 [==============================] - 31s 88ms/step - loss: 0.2201 - categorical_accuracy: 0.9305 - val_loss: 0.5932 - val_categorical_accuracy: 0.8821\n",
      "Epoch 46/100\n",
      "350/350 [==============================] - 31s 89ms/step - loss: 0.2135 - categorical_accuracy: 0.9345 - val_loss: 0.5776 - val_categorical_accuracy: 0.8804\n",
      "Epoch 47/100\n",
      "350/350 [==============================] - 33s 93ms/step - loss: 0.2173 - categorical_accuracy: 0.9348 - val_loss: 0.5802 - val_categorical_accuracy: 0.8821\n"
     ]
    },
    {
     "name": "stdout",
     "output_type": "stream",
     "text": [
      "Epoch 48/100\n",
      "350/350 [==============================] - 32s 92ms/step - loss: 0.2165 - categorical_accuracy: 0.9336 - val_loss: 0.5645 - val_categorical_accuracy: 0.8839\n",
      "Epoch 49/100\n",
      "350/350 [==============================] - 32s 91ms/step - loss: 0.2183 - categorical_accuracy: 0.9336 - val_loss: 0.5801 - val_categorical_accuracy: 0.8804\n",
      "Epoch 50/100\n",
      "350/350 [==============================] - 33s 95ms/step - loss: 0.2134 - categorical_accuracy: 0.9332 - val_loss: 0.6008 - val_categorical_accuracy: 0.8750\n",
      "Epoch 51/100\n",
      "350/350 [==============================] - 34s 96ms/step - loss: 0.2213 - categorical_accuracy: 0.9305 - val_loss: 0.5667 - val_categorical_accuracy: 0.8804\n",
      "Epoch 52/100\n",
      "350/350 [==============================] - 33s 95ms/step - loss: 0.2189 - categorical_accuracy: 0.9318 - val_loss: 0.5783 - val_categorical_accuracy: 0.8786\n",
      "Epoch 53/100\n",
      "350/350 [==============================] - 33s 93ms/step - loss: 0.2068 - categorical_accuracy: 0.9391 - val_loss: 0.5794 - val_categorical_accuracy: 0.8857\n",
      "Epoch 54/100\n",
      "350/350 [==============================] - 32s 90ms/step - loss: 0.2005 - categorical_accuracy: 0.9386 - val_loss: 0.6042 - val_categorical_accuracy: 0.8821\n",
      "Epoch 55/100\n",
      "350/350 [==============================] - 34s 96ms/step - loss: 0.1960 - categorical_accuracy: 0.9396 - val_loss: 0.6072 - val_categorical_accuracy: 0.8839\n",
      "Epoch 56/100\n",
      "350/350 [==============================] - 31s 90ms/step - loss: 0.2064 - categorical_accuracy: 0.9371 - val_loss: 0.6092 - val_categorical_accuracy: 0.8875\n",
      "Epoch 57/100\n",
      "350/350 [==============================] - 34s 98ms/step - loss: 0.2098 - categorical_accuracy: 0.9389 - val_loss: 0.5958 - val_categorical_accuracy: 0.8786\n",
      "Epoch 58/100\n",
      "350/350 [==============================] - 33s 93ms/step - loss: 0.2038 - categorical_accuracy: 0.9355 - val_loss: 0.5899 - val_categorical_accuracy: 0.8839\n",
      "Epoch 59/100\n",
      "350/350 [==============================] - 34s 96ms/step - loss: 0.1951 - categorical_accuracy: 0.9389 - val_loss: 0.5907 - val_categorical_accuracy: 0.8929\n",
      "Epoch 60/100\n",
      "350/350 [==============================] - 34s 96ms/step - loss: 0.2021 - categorical_accuracy: 0.9380 - val_loss: 0.6086 - val_categorical_accuracy: 0.8821\n",
      "Epoch 61/100\n",
      "350/350 [==============================] - 33s 95ms/step - loss: 0.1999 - categorical_accuracy: 0.9396 - val_loss: 0.5882 - val_categorical_accuracy: 0.8893\n",
      "Epoch 62/100\n",
      "350/350 [==============================] - 35s 99ms/step - loss: 0.1991 - categorical_accuracy: 0.9402 - val_loss: 0.5981 - val_categorical_accuracy: 0.8875\n",
      "Epoch 63/100\n",
      "350/350 [==============================] - 34s 98ms/step - loss: 0.1877 - categorical_accuracy: 0.9432 - val_loss: 0.6219 - val_categorical_accuracy: 0.8839\n",
      "Epoch 64/100\n",
      "350/350 [==============================] - 37s 107ms/step - loss: 0.1889 - categorical_accuracy: 0.9413 - val_loss: 0.6135 - val_categorical_accuracy: 0.8821\n",
      "Epoch 65/100\n",
      "350/350 [==============================] - 33s 94ms/step - loss: 0.1883 - categorical_accuracy: 0.9388 - val_loss: 0.6033 - val_categorical_accuracy: 0.8875\n",
      "Epoch 66/100\n",
      "350/350 [==============================] - 33s 94ms/step - loss: 0.2084 - categorical_accuracy: 0.9314 - val_loss: 0.5898 - val_categorical_accuracy: 0.8911\n",
      "Epoch 67/100\n",
      "350/350 [==============================] - 33s 94ms/step - loss: 0.1847 - categorical_accuracy: 0.9443 - val_loss: 0.5842 - val_categorical_accuracy: 0.8839\n",
      "Epoch 68/100\n",
      "350/350 [==============================] - 33s 94ms/step - loss: 0.1814 - categorical_accuracy: 0.9452 - val_loss: 0.6320 - val_categorical_accuracy: 0.8875\n",
      "Epoch 69/100\n",
      "350/350 [==============================] - 33s 93ms/step - loss: 0.1834 - categorical_accuracy: 0.9420 - val_loss: 0.6048 - val_categorical_accuracy: 0.8964\n",
      "Epoch 70/100\n",
      "350/350 [==============================] - 33s 94ms/step - loss: 0.1904 - categorical_accuracy: 0.9418 - val_loss: 0.5973 - val_categorical_accuracy: 0.8946\n",
      "Epoch 71/100\n",
      "350/350 [==============================] - 31s 88ms/step - loss: 0.1862 - categorical_accuracy: 0.9430 - val_loss: 0.6049 - val_categorical_accuracy: 0.8821\n",
      "Epoch 72/100\n",
      "350/350 [==============================] - 31s 90ms/step - loss: 0.1839 - categorical_accuracy: 0.9455 - val_loss: 0.6219 - val_categorical_accuracy: 0.8893\n",
      "Epoch 73/100\n",
      "350/350 [==============================] - 31s 88ms/step - loss: 0.1842 - categorical_accuracy: 0.9450 - val_loss: 0.6060 - val_categorical_accuracy: 0.8929\n",
      "Epoch 74/100\n",
      "350/350 [==============================] - 31s 88ms/step - loss: 0.1884 - categorical_accuracy: 0.9411 - val_loss: 0.6042 - val_categorical_accuracy: 0.8911\n",
      "Epoch 75/100\n",
      "350/350 [==============================] - 31s 88ms/step - loss: 0.1840 - categorical_accuracy: 0.9421 - val_loss: 0.6089 - val_categorical_accuracy: 0.8911\n",
      "Epoch 76/100\n",
      "350/350 [==============================] - 31s 88ms/step - loss: 0.1706 - categorical_accuracy: 0.9502 - val_loss: 0.6073 - val_categorical_accuracy: 0.8929\n",
      "Epoch 77/100\n",
      "350/350 [==============================] - 31s 89ms/step - loss: 0.1833 - categorical_accuracy: 0.9448 - val_loss: 0.6121 - val_categorical_accuracy: 0.8857\n",
      "Epoch 78/100\n",
      "350/350 [==============================] - 31s 88ms/step - loss: 0.1821 - categorical_accuracy: 0.9446 - val_loss: 0.5941 - val_categorical_accuracy: 0.8946\n",
      "Epoch 79/100\n",
      "350/350 [==============================] - 31s 88ms/step - loss: 0.1780 - categorical_accuracy: 0.9470 - val_loss: 0.6032 - val_categorical_accuracy: 0.8875\n",
      "Epoch 80/100\n",
      "350/350 [==============================] - 31s 88ms/step - loss: 0.1782 - categorical_accuracy: 0.9441 - val_loss: 0.5971 - val_categorical_accuracy: 0.8946\n",
      "Epoch 81/100\n",
      "350/350 [==============================] - 31s 88ms/step - loss: 0.1808 - categorical_accuracy: 0.9427 - val_loss: 0.6239 - val_categorical_accuracy: 0.8929\n",
      "Epoch 82/100\n",
      "350/350 [==============================] - 31s 88ms/step - loss: 0.1671 - categorical_accuracy: 0.9502 - val_loss: 0.6290 - val_categorical_accuracy: 0.8929\n",
      "Epoch 83/100\n",
      "350/350 [==============================] - 31s 88ms/step - loss: 0.1771 - categorical_accuracy: 0.9439 - val_loss: 0.6436 - val_categorical_accuracy: 0.8839\n",
      "Epoch 84/100\n",
      "350/350 [==============================] - 31s 88ms/step - loss: 0.1743 - categorical_accuracy: 0.9438 - val_loss: 0.6121 - val_categorical_accuracy: 0.8911\n",
      "Epoch 85/100\n",
      "350/350 [==============================] - 35s 101ms/step - loss: 0.1734 - categorical_accuracy: 0.9500 - val_loss: 0.6225 - val_categorical_accuracy: 0.8929\n",
      "Epoch 86/100\n",
      "350/350 [==============================] - 30s 87ms/step - loss: 0.1744 - categorical_accuracy: 0.9459 - val_loss: 0.6234 - val_categorical_accuracy: 0.8839\n",
      "Epoch 87/100\n",
      "350/350 [==============================] - 31s 89ms/step - loss: 0.1666 - categorical_accuracy: 0.9511 - val_loss: 0.6191 - val_categorical_accuracy: 0.8929\n",
      "Epoch 88/100\n",
      "350/350 [==============================] - 30s 85ms/step - loss: 0.1761 - categorical_accuracy: 0.9443 - val_loss: 0.6165 - val_categorical_accuracy: 0.8946\n",
      "Epoch 89/100\n",
      "350/350 [==============================] - 36s 102ms/step - loss: 0.1692 - categorical_accuracy: 0.9480 - val_loss: 0.6121 - val_categorical_accuracy: 0.8946\n",
      "Epoch 90/100\n",
      "350/350 [==============================] - 35s 99ms/step - loss: 0.1595 - categorical_accuracy: 0.9514 - val_loss: 0.6218 - val_categorical_accuracy: 0.8964\n",
      "Epoch 91/100\n",
      "350/350 [==============================] - 30s 86ms/step - loss: 0.1693 - categorical_accuracy: 0.9491 - val_loss: 0.6295 - val_categorical_accuracy: 0.8946\n",
      "Epoch 92/100\n",
      "350/350 [==============================] - 31s 87ms/step - loss: 0.1649 - categorical_accuracy: 0.9504 - val_loss: 0.6340 - val_categorical_accuracy: 0.8893\n",
      "Epoch 93/100\n",
      "350/350 [==============================] - 32s 92ms/step - loss: 0.1571 - categorical_accuracy: 0.9513 - val_loss: 0.6315 - val_categorical_accuracy: 0.8839\n",
      "Epoch 94/100\n",
      "350/350 [==============================] - 30s 85ms/step - loss: 0.1679 - categorical_accuracy: 0.9463 - val_loss: 0.6109 - val_categorical_accuracy: 0.8929\n",
      "Epoch 95/100\n",
      "350/350 [==============================] - 30s 85ms/step - loss: 0.1566 - categorical_accuracy: 0.9502 - val_loss: 0.6161 - val_categorical_accuracy: 0.8911\n",
      "Epoch 96/100\n",
      "350/350 [==============================] - 30s 85ms/step - loss: 0.1680 - categorical_accuracy: 0.9495 - val_loss: 0.6032 - val_categorical_accuracy: 0.8911\n",
      "Epoch 97/100\n",
      "350/350 [==============================] - 31s 87ms/step - loss: 0.1615 - categorical_accuracy: 0.9521 - val_loss: 0.6226 - val_categorical_accuracy: 0.8982\n",
      "Epoch 98/100\n",
      "350/350 [==============================] - 30s 84ms/step - loss: 0.1596 - categorical_accuracy: 0.9523 - val_loss: 0.6215 - val_categorical_accuracy: 0.8893\n",
      "Epoch 99/100\n",
      "350/350 [==============================] - 29s 84ms/step - loss: 0.1508 - categorical_accuracy: 0.9557 - val_loss: 0.6450 - val_categorical_accuracy: 0.8929\n",
      "Epoch 100/100\n",
      "350/350 [==============================] - 32s 92ms/step - loss: 0.1630 - categorical_accuracy: 0.9527 - val_loss: 0.6152 - val_categorical_accuracy: 0.8982\n"
     ]
    }
   ],
   "source": [
    "import math\n",
    "\n",
    "history = best_model.fit_generator(\n",
    "      train_generator,\n",
    "      steps_per_epoch=math.ceil(number_of_training_samples//batch_size),\n",
    "      epochs=100,\n",
    "      callbacks=callbacks_list,\n",
    "      validation_data=validation_generator,\n",
    "      validation_steps=math.ceil(number_of_validation_samples//batch_size))"
   ]
  },
  {
   "cell_type": "code",
   "execution_count": 34,
   "metadata": {},
   "outputs": [
    {
     "data": {
      "image/png": "[encoded data removed]",
      "text/plain": [
       "<Figure size 432x288 with 1 Axes>"
      ]
     },
     "metadata": {
      "needs_background": "light"
     },
     "output_type": "display_data"
    },
    {
     "data": {
      "image/png": "[encoded data removed]",
      "text/plain": [
       "<Figure size 432x288 with 1 Axes>"
      ]
     },
     "metadata": {
      "needs_background": "light"
     },
     "output_type": "display_data"
    }
   ],
   "source": [
    "import matplotlib.pyplot as plt\n",
    "%matplotlib inline\n",
    "\n",
    "acc=history.history['categorical_accuracy']\n",
    "val_acc=history.history['val_categorical_accuracy']\n",
    "loss=history.history['loss']\n",
    "val_loss=history.history['val_loss']\n",
    "epochs=range(1,len(acc)+1)\n",
    "plt.xlabel('Epochs')\n",
    "plt.ylabel('Accuracy')\n",
    "plt.plot(epochs, acc, 'bo', label='Training acc')\n",
    "plt.plot(epochs, val_acc, 'b', label='Validation acc')\n",
    "plt.title('Training and validation accuracy')\n",
    "plt.legend()\n",
    "plt.figure()\n",
    "\n",
    "plt.plot(epochs, loss, 'bo', label='Training loss')\n",
    "plt.plot(epochs, val_loss, 'b', label='Validation loss')\n",
    "plt.title('Training and validation loss')\n",
    "plt.xlabel('Epochs')\n",
    "plt.ylabel('Loss')\n",
    "plt.legend()\n",
    "plt.show()"
   ]
  },
  {
   "cell_type": "code",
   "execution_count": 35,
   "metadata": {},
   "outputs": [],
   "source": [
    "best_model_fine_tuned = load_model('IndusNet_7_classes_100_100_with_adversarial_samples_0_2_9th Experiment_fine tuned_last 4 conv layers unfrozen.h5')"
   ]
  },
  {
   "cell_type": "code",
   "execution_count": 36,
   "metadata": {},
   "outputs": [
    {
     "name": "stdout",
     "output_type": "stream",
     "text": [
      "18/18 [==============================] - 2s 84ms/step - loss: 0.3678 - categorical_accuracy: 0.9250\n"
     ]
    },
    {
     "data": {
      "text/plain": [
       "[0.3678325116634369, 0.925000011920929]"
      ]
     },
     "execution_count": 36,
     "metadata": {},
     "output_type": "execute_result"
    }
   ],
   "source": [
    "best_model_fine_tuned.evaluate(x=test_data, y=to_categorical(test_labels,7), verbose=1)"
   ]
  },
  {
   "cell_type": "code",
   "execution_count": 37,
   "metadata": {},
   "outputs": [
    {
     "name": "stdout",
     "output_type": "stream",
     "text": [
      "18/18 [==============================] - 1s 81ms/step - loss: 0.9434 - categorical_accuracy: 0.8214\n"
     ]
    },
    {
     "data": {
      "text/plain": [
       "[0.9434307813644409, 0.8214285969734192]"
      ]
     },
     "execution_count": 37,
     "metadata": {},
     "output_type": "execute_result"
    }
   ],
   "source": [
    "best_model_fine_tuned.evaluate(x=adversarial_test_data, y=to_categorical(adversarial_test_labels,7), verbose=1)"
   ]
  }
 ],
 "metadata": {
  "colab": {
   "collapsed_sections": [],
   "name": "IndusNet_IndusFruit_AdversarialLearning_2nd Experiment_GC.ipynb",
   "provenance": [],
   "toc_visible": true
  },
  "kernelspec": {
   "display_name": "Python 3",
   "language": "python",
   "name": "python3"
  },
  "language_info": {
   "codemirror_mode": {
    "name": "ipython",
    "version": 3
   },
   "file_extension": ".py",
   "mimetype": "text/x-python",
   "name": "python",
   "nbconvert_exporter": "python",
   "pygments_lexer": "ipython3",
   "version": "3.8.3"
  }
 },
 "nbformat": 4,
 "nbformat_minor": 1
}
